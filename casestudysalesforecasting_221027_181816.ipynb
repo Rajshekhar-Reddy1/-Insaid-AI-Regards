{
  "nbformat": 4,
  "nbformat_minor": 0,
  "metadata": {
    "colab": {
      "provenance": [],
      "include_colab_link": true
    },
    "kernelspec": {
      "name": "python3",
      "display_name": "Python 3"
    }
  },
  "cells": [
    {
      "cell_type": "markdown",
      "metadata": {
        "id": "view-in-github",
        "colab_type": "text"
      },
      "source": [
        "<a href=\"https://colab.research.google.com/github/Rajshekhar-Reddy1/-Insaid-AI-Regards/blob/main/casestudysalesforecasting_221027_181816.ipynb\" target=\"_parent\"><img src=\"https://colab.research.google.com/assets/colab-badge.svg\" alt=\"Open In Colab\"/></a>"
      ]
    },
    {
      "cell_type": "markdown",
      "metadata": {
        "id": "V7i7Mb3WKWtI"
      },
      "source": [
        "<center><img src=\"https://github.com/insaid2018/Term-1/blob/master/Images/INSAID_Full%20Logo.png?raw=true\" width=\"240\" height=\"120\" /></center>\n",
        "\n",
        "<h1><center><strong>Sales Forecasting</strong></center></h1>"
      ]
    },
    {
      "cell_type": "markdown",
      "metadata": {
        "id": "LKqoTLYsbj63"
      },
      "source": [
        "# **Table of Contents**\n",
        "\n",
        "1. [Introduction](#Section1)<br>\n",
        "2. [Problem Statement](#Section2)<br>\n",
        "3. [Importing Libraries](#Section3)<br>\n",
        "  - 3.1 [Installing Libraries](#Section301)<br>\n",
        "  - 3.2 [Importing Libraries](#Section302)<br>\n",
        "4. [Data Loading and Dataset Description](#Section4)<br>\n",
        "  - 4.1 [Data Loading](#Section401)<br>\n",
        "  - 4.2 [Pre-Pandas Profiling](#Section404)<br>\n",
        "5. [Data Pre-Processing](#Section5)<br>\n",
        "  - 5.1 [Dealing with Missing Values](#Section501)<br>\n",
        "  - 5.2 [Feature (Month) Extraction from Date](#Section502)<br>\n",
        "6. [Exploratory Data Analysis](#Section6)<br>\n",
        "7. [Post Data Processing & Analysis](#Section7)<br>\n",
        "  - 7.1 [Encoding Categorical Data](#Section701)<br>\n",
        "  - 7.2 [Feature (Day) Extraction from Date](#Section702)<br>\n",
        "  - 7.3 [Data Splitting](#Section704)<br>\n",
        "8. [Model Development & Evaluation](#Section8)<br>\n",
        "    - 8.1 [Baseline Models](#Section801)<br>\n",
        "    - 8.2 [Essential Feature Models](#Section802)<br>\n",
        "    - 8.3 [Hyperparameter Tuning of Model](#Section803)<br>\n",
        "    - 8.4 [Final Model](#Section804)<br>\n",
        "9. [Conclusion](#Section9)<br>"
      ]
    },
    {
      "cell_type": "markdown",
      "metadata": {
        "id": "-4PE3x3JLo3Q"
      },
      "source": [
        "<a id = Section1></a>\n",
        "## **1. Introduction**"
      ]
    },
    {
      "cell_type": "markdown",
      "metadata": {
        "id": "tyQD1-sLbmk-"
      },
      "source": [
        "- Forecasting means the **estimation** of quantity, type, and quality of future work e.g. sales.\n",
        "\n",
        "- Any forecast can be termed as an **indicator** of what is likely to happen in a specified **future** time frame in a particular field.\n",
        "\n",
        "- Therefore, the sales forecast indicates as to how much of a particular **product** is likely to be **sold** in a specified future period in a specified market at speci­fied price.\n",
        "\n",
        "- For any manufacturing concern, it is very necessary to assess the **market trends** sufficiently in ad­vance.\n",
        "\n",
        "- This forecast helps the management in determining as to how much **revenue** can be expected to be realized, how much to manufacture, and what shall be the **requirement** of men, machines, and money.\n",
        "\n",
        "\n",
        "<center><img src=\"https://raw.githubusercontent.com/insaid2018/Domain_Case_Studies/master/Retail/Images/sales_forecasting.jpg\" width=\"500px\"></center>"
      ]
    },
    {
      "cell_type": "markdown",
      "metadata": {
        "id": "cjDdg4DiLgPD"
      },
      "source": [
        "<a id = Section2></a>\n",
        "## **2. Problem Statement**"
      ]
    },
    {
      "cell_type": "markdown",
      "metadata": {
        "id": "uLPmQwCNbrDV"
      },
      "source": [
        "- The **demand** for a product or service keeps **changing** from time to time.\n",
        "\n",
        "- No business can improve its financial performance without **estimating customer demand** and future sales of products/services accurately.\n",
        "\n",
        "\n",
        "<center><img src=\"https://raw.githubusercontent.com/insaid2018/Domain_Case_Studies/master/Retail/Images/sales_forecasting1.jpg\" width=\"700px\"\"></center>"
      ]
    },
    {
      "cell_type": "markdown",
      "metadata": {
        "id": "y-FjiHjuLkk4"
      },
      "source": [
        "**<h4>Business Scenario:</h4>**\n",
        "\n",
        "- A multinational retail corporation named **Shopper's Depot** operates a chain of hypermarkets, discount department stores, and grocery stores all around the world.\n",
        "\n",
        "- The company is planning to open some additional stores in different regions and the management wants to **predict** the **future sales** of these stores and the **factors affecting** the sales numbers.\n",
        "\n",
        "- This will help them in allocating a **budget** to each store according to the amount of mechanical and human resources required in the stores and setting up the **supply chain** and **inventory** systems.\n",
        "\n",
        "- One challenge of modeling retail data is the need to make decisions based on **limited history**.\n",
        "\n",
        "- As a result, the company has assigned its Data Science division the task to make the **department-wide sales forecast** for each store.\n",
        "\n",
        "- The **target feature** is the **Weekly_Sales** column which shows the **sales** for the given department in the given store for a particular week."
      ]
    },
    {
      "cell_type": "markdown",
      "metadata": {
        "id": "f5SUJyS-crFn"
      },
      "source": [
        "<a id = Section3></a>\n",
        "## **3. Importing Libraries**"
      ]
    },
    {
      "cell_type": "markdown",
      "metadata": {
        "id": "cA7miFWpe-Jb"
      },
      "source": [
        "<a id = Section301></a>\n",
        "### **3.1 Installing Libraries**"
      ]
    },
    {
      "cell_type": "markdown",
      "metadata": {
        "id": "PW7YHKNFfB2H"
      },
      "source": [
        "**Note:** After installing, you need to restart the runtime. Make sure not to execute the cell again after restarting the runtime."
      ]
    },
    {
      "cell_type": "code",
      "metadata": {
        "id": "nUk5cKWDe2tE"
      },
      "source": [
        "!pip install -q pandas-profiling --upgrade"
      ],
      "execution_count": null,
      "outputs": []
    },
    {
      "cell_type": "markdown",
      "metadata": {
        "id": "oepgLeCEfF5S"
      },
      "source": [
        "<a id = Section302></a>\n",
        "### **3.2 Importing Libraries**"
      ]
    },
    {
      "cell_type": "code",
      "metadata": {
        "id": "fhmayRuHc0NG"
      },
      "source": [
        "# For Numerical Python\n",
        "import numpy as np\n",
        "\n",
        "# For Panel Data Analysis\n",
        "import pandas as pd\n",
        "pd.set_option('display.max_columns', None)\n",
        "pd.set_option('mode.chained_assignment', None)\n",
        "pd.set_option('display.precision', 4)\n",
        "\n",
        "from pandas_profiling import ProfileReport\n",
        "\n",
        "# For Data Visualization\n",
        "import matplotlib.pyplot as plt\n",
        "%matplotlib inline\n",
        "\n",
        "import seaborn as sns\n",
        "\n",
        "# To Disable Warnings\n",
        "import warnings\n",
        "warnings.filterwarnings(\"ignore\")"
      ],
      "execution_count": null,
      "outputs": []
    },
    {
      "cell_type": "code",
      "metadata": {
        "id": "LArZiZAt6GZy"
      },
      "source": [
        "# For Data Model Development\n",
        "from sklearn.model_selection import train_test_split, cross_val_score, GridSearchCV\n",
        "from sklearn.linear_model import LinearRegression\n",
        "from sklearn.tree import DecisionTreeRegressor\n",
        "from sklearn.ensemble import RandomForestRegressor\n",
        "from sklearn.svm import SVR"
      ],
      "execution_count": null,
      "outputs": []
    },
    {
      "cell_type": "code",
      "metadata": {
        "id": "7NH54hj16GcY"
      },
      "source": [
        "# For Machine Learning Model Evaluation\n",
        "from sklearn.metrics import mean_squared_error, mean_absolute_error, r2_score"
      ],
      "execution_count": null,
      "outputs": []
    },
    {
      "cell_type": "markdown",
      "metadata": {
        "id": "33mw-1o-Ks-M"
      },
      "source": [
        "<a id = Section4></a>\n",
        "## **4. Data Loading and Dataset Description**"
      ]
    },
    {
      "cell_type": "markdown",
      "metadata": {
        "id": "fTuUVn0ac4iG"
      },
      "source": [
        "- We are provided with historical sales data for **45 The Shopper's Depot** stores located in different regions from **2010-02-05 to 2012-11-01**.\n",
        "\n",
        "- Each store contains about **99** different **departments**, and we are tasked with predicting the department-wide sales for each store.\n",
        "\n",
        "- In addition to the stores basic operations, *The Shopper's Depot* runs several **promotional markdown events** throughout the year.\n",
        "\n",
        "  - These markdowns are known to **affect sales**, but it is challenging to predict which departments are affected and the extent of the impact."
      ]
    },
    {
      "cell_type": "markdown",
      "metadata": {
        "id": "-S8VHMb3K6CJ"
      },
      "source": [
        "<br> \n",
        "\n",
        "| Records | Features | Dataset Size |\n",
        "| :--: | :--: | :--: |\n",
        "| 421,570 | 16 | 37 MB| \n",
        "\n",
        "<br> "
      ]
    },
    {
      "cell_type": "markdown",
      "metadata": {
        "id": "h8aSObH2Ky96"
      },
      "source": [
        "| Column | Description |\n",
        "| :--:| :--: | \n",
        "| **Store** | The store number. |\n",
        "| **Dept** | The department number. |\n",
        "| **Date** | The week |\n",
        "| **Weekly_Sales** | Sales for the given department in the given store. |\n",
        "| **IsHoliday** | Whether the week is a special holiday week. |\n",
        "| **Temperature** | Average temperature in the region. |\n",
        "| **Fuel_Price** | Cost of fuel in the region. |\n",
        "| **MarkDown1** | Anonymized data related to promotional markdowns that **The Shopper's Depot** is running. |\n",
        "| **MarkDown2** | Anonymized data related to promotional markdown. |\n",
        "| **MarkDown3** | Anonymized data related to promotional markdowns. |\n",
        "| **MarkDown4** | Anonymized data related to promotional markdowns. |\n",
        "| **MarkDown5** | Anonymized data related to promotional markdowns. |\n",
        "| **CPI** | The consumer price index. |\n",
        "| **Unemployment** | The unemployment rate. |\n",
        "| **Type** | Type of the store. |\n",
        "| **Size** | Size of the store. |"
      ]
    },
    {
      "cell_type": "markdown",
      "metadata": {
        "id": "91iypYdhlH-3"
      },
      "source": [
        "<a id = Section401></a>\n",
        "### **4.1 Data Loading**"
      ]
    },
    {
      "cell_type": "code",
      "metadata": {
        "id": "DLfRjN1JCaNm",
        "outputId": "6cac4444-babf-47fd-a734-ddd465fd327b",
        "colab": {
          "base_uri": "https://localhost:8080/",
          "height": 299
        }
      },
      "source": [
        "sales_df = pd.read_csv('https://storage.googleapis.com/retail-analytics-data/weekly_sales_data.csv')\n",
        "sales_df.head()"
      ],
      "execution_count": null,
      "outputs": [
        {
          "output_type": "execute_result",
          "data": {
            "text/html": [
              "<div>\n",
              "<style scoped>\n",
              "    .dataframe tbody tr th:only-of-type {\n",
              "        vertical-align: middle;\n",
              "    }\n",
              "\n",
              "    .dataframe tbody tr th {\n",
              "        vertical-align: top;\n",
              "    }\n",
              "\n",
              "    .dataframe thead th {\n",
              "        text-align: right;\n",
              "    }\n",
              "</style>\n",
              "<table border=\"1\" class=\"dataframe\">\n",
              "  <thead>\n",
              "    <tr style=\"text-align: right;\">\n",
              "      <th></th>\n",
              "      <th>Store</th>\n",
              "      <th>Dept</th>\n",
              "      <th>Date</th>\n",
              "      <th>Weekly_Sales</th>\n",
              "      <th>IsHoliday</th>\n",
              "      <th>Temperature</th>\n",
              "      <th>Fuel_Price</th>\n",
              "      <th>MarkDown1</th>\n",
              "      <th>MarkDown2</th>\n",
              "      <th>MarkDown3</th>\n",
              "      <th>MarkDown4</th>\n",
              "      <th>MarkDown5</th>\n",
              "      <th>CPI</th>\n",
              "      <th>Unemployment</th>\n",
              "      <th>Type</th>\n",
              "      <th>Size</th>\n",
              "    </tr>\n",
              "  </thead>\n",
              "  <tbody>\n",
              "    <tr>\n",
              "      <th>0</th>\n",
              "      <td>1</td>\n",
              "      <td>1</td>\n",
              "      <td>2010-02-05</td>\n",
              "      <td>24924.50</td>\n",
              "      <td>False</td>\n",
              "      <td>42.31</td>\n",
              "      <td>2.572</td>\n",
              "      <td>NaN</td>\n",
              "      <td>NaN</td>\n",
              "      <td>NaN</td>\n",
              "      <td>NaN</td>\n",
              "      <td>NaN</td>\n",
              "      <td>211.0964</td>\n",
              "      <td>8.106</td>\n",
              "      <td>A</td>\n",
              "      <td>151315</td>\n",
              "    </tr>\n",
              "    <tr>\n",
              "      <th>1</th>\n",
              "      <td>1</td>\n",
              "      <td>2</td>\n",
              "      <td>2010-02-05</td>\n",
              "      <td>50605.27</td>\n",
              "      <td>False</td>\n",
              "      <td>42.31</td>\n",
              "      <td>2.572</td>\n",
              "      <td>NaN</td>\n",
              "      <td>NaN</td>\n",
              "      <td>NaN</td>\n",
              "      <td>NaN</td>\n",
              "      <td>NaN</td>\n",
              "      <td>211.0964</td>\n",
              "      <td>8.106</td>\n",
              "      <td>A</td>\n",
              "      <td>151315</td>\n",
              "    </tr>\n",
              "    <tr>\n",
              "      <th>2</th>\n",
              "      <td>1</td>\n",
              "      <td>3</td>\n",
              "      <td>2010-02-05</td>\n",
              "      <td>13740.12</td>\n",
              "      <td>False</td>\n",
              "      <td>42.31</td>\n",
              "      <td>2.572</td>\n",
              "      <td>NaN</td>\n",
              "      <td>NaN</td>\n",
              "      <td>NaN</td>\n",
              "      <td>NaN</td>\n",
              "      <td>NaN</td>\n",
              "      <td>211.0964</td>\n",
              "      <td>8.106</td>\n",
              "      <td>A</td>\n",
              "      <td>151315</td>\n",
              "    </tr>\n",
              "    <tr>\n",
              "      <th>3</th>\n",
              "      <td>1</td>\n",
              "      <td>4</td>\n",
              "      <td>2010-02-05</td>\n",
              "      <td>39954.04</td>\n",
              "      <td>False</td>\n",
              "      <td>42.31</td>\n",
              "      <td>2.572</td>\n",
              "      <td>NaN</td>\n",
              "      <td>NaN</td>\n",
              "      <td>NaN</td>\n",
              "      <td>NaN</td>\n",
              "      <td>NaN</td>\n",
              "      <td>211.0964</td>\n",
              "      <td>8.106</td>\n",
              "      <td>A</td>\n",
              "      <td>151315</td>\n",
              "    </tr>\n",
              "    <tr>\n",
              "      <th>4</th>\n",
              "      <td>1</td>\n",
              "      <td>5</td>\n",
              "      <td>2010-02-05</td>\n",
              "      <td>32229.38</td>\n",
              "      <td>False</td>\n",
              "      <td>42.31</td>\n",
              "      <td>2.572</td>\n",
              "      <td>NaN</td>\n",
              "      <td>NaN</td>\n",
              "      <td>NaN</td>\n",
              "      <td>NaN</td>\n",
              "      <td>NaN</td>\n",
              "      <td>211.0964</td>\n",
              "      <td>8.106</td>\n",
              "      <td>A</td>\n",
              "      <td>151315</td>\n",
              "    </tr>\n",
              "  </tbody>\n",
              "</table>\n",
              "</div>"
            ],
            "text/plain": [
              "   Store  Dept        Date  Weekly_Sales  IsHoliday  Temperature  Fuel_Price  \\\n",
              "0      1     1  2010-02-05      24924.50      False        42.31       2.572   \n",
              "1      1     2  2010-02-05      50605.27      False        42.31       2.572   \n",
              "2      1     3  2010-02-05      13740.12      False        42.31       2.572   \n",
              "3      1     4  2010-02-05      39954.04      False        42.31       2.572   \n",
              "4      1     5  2010-02-05      32229.38      False        42.31       2.572   \n",
              "\n",
              "   MarkDown1  MarkDown2  MarkDown3  MarkDown4  MarkDown5       CPI  \\\n",
              "0        NaN        NaN        NaN        NaN        NaN  211.0964   \n",
              "1        NaN        NaN        NaN        NaN        NaN  211.0964   \n",
              "2        NaN        NaN        NaN        NaN        NaN  211.0964   \n",
              "3        NaN        NaN        NaN        NaN        NaN  211.0964   \n",
              "4        NaN        NaN        NaN        NaN        NaN  211.0964   \n",
              "\n",
              "   Unemployment Type    Size  \n",
              "0         8.106    A  151315  \n",
              "1         8.106    A  151315  \n",
              "2         8.106    A  151315  \n",
              "3         8.106    A  151315  \n",
              "4         8.106    A  151315  "
            ]
          },
          "metadata": {
            "tags": []
          },
          "execution_count": 4
        }
      ]
    },
    {
      "cell_type": "markdown",
      "metadata": {
        "id": "9Ckp-LUAu5mQ"
      },
      "source": [
        "<a id = Section404></a>\n",
        "### **4.2 Pre Profiling Report**"
      ]
    },
    {
      "cell_type": "markdown",
      "metadata": {
        "id": "52j9RdMl6CWW"
      },
      "source": [
        "- Using **pandas-profiling** to quickly *analyse* our data."
      ]
    },
    {
      "cell_type": "code",
      "metadata": {
        "run_control": {
          "marked": false
        },
        "id": "7KNjQUM46CWf"
      },
      "source": [
        "profile = ProfileReport(sales_df, progress_bar=False, minimal=True)"
      ],
      "execution_count": null,
      "outputs": []
    },
    {
      "cell_type": "code",
      "metadata": {
        "id": "jCv44vv1Qyan",
        "outputId": "d07ecf63-c320-4c4f-87ff-4fe819977b50",
        "colab": {
          "base_uri": "https://localhost:8080/",
          "height": 34
        }
      },
      "source": [
        "profile.to_file(output_file=\"Pre_Profiling_Report.html\")\n",
        "print('Pre-Profiling Accomplished!')"
      ],
      "execution_count": null,
      "outputs": [
        {
          "output_type": "stream",
          "text": [
            "Pre-Profiling Accomplished!\n"
          ],
          "name": "stdout"
        }
      ]
    },
    {
      "cell_type": "markdown",
      "metadata": {
        "id": "pBsf158Z0Bm2"
      },
      "source": [
        "**Observations:**\n",
        "\n",
        "- There are **16 variables** and **421570 observations** in the dataset.\n",
        "\n",
        "- There are **1422431 missing** cells (**21.1%** of all cells) in the data.\n",
        "\n",
        "- Of all the 16 variables **13** are **numerical**, **2** are **categorical** and **1** is **boolean**.\n",
        "\n",
        "- `Date` column has a high cardinality with 143 distinct values.\n",
        "\n",
        "- `Date` only contains **datetime** values, but is having a **categorical** dtype.\n",
        "\n",
        "- All the MarkDown columns have more than **64% missing** values:\n",
        "  \n",
        "  - `MarkDown1` has **270889** (**64.3%**) missing values\n",
        "\n",
        "  - `MarkDown2` has **310322** (**73.6%**) missing values\n",
        "  \n",
        "  - `MarkDown3` has **284479** (**67.5%**) missing values\n",
        "  \n",
        "  - `MarkDown4` has **286603** (**68.0%**) missing values\n",
        "  \n",
        "  - `MarkDown5` has **270138** (**64.1%**) missing values\n",
        "\n",
        "- All the MarkDown columns have a **positive skewness** values and very **high kurtosis** value suggesting presence of **outliers**.\n",
        "\n",
        "- `IsHoliday` contains only **two unique** values True and False.\n",
        "\n",
        "- `Type` has **3** distinct values: **A**, **B**, and **C**.\n",
        "\n",
        "- `Weekly_Sales` has a mean of 15981.25 and a median of 7612.03\n",
        "\n",
        "  - The **skewness** is **3.26**, meaning the distribution if positive (right) skewed.\n",
        "\n",
        "  - Also, it has a very high **kurtosis** value at **21.49**, suggesting presence of outliers in the distribution.\n",
        "\n",
        "  - The maximimum value in this column is **693099.36** which is very far away from the **95-th percentile** value of **61201.95**, meaning that it's an **outlier**."
      ]
    },
    {
      "cell_type": "markdown",
      "metadata": {
        "id": "SjjgouCUKco8"
      },
      "source": [
        "<a id = Section5></a>\n",
        "## **5. Data Pre-Processing**"
      ]
    },
    {
      "cell_type": "markdown",
      "metadata": {
        "id": "MvNc7ikaNRID"
      },
      "source": [
        "<a id = Section501></a>\n",
        "### **5.1 Dealing with Missing Values**"
      ]
    },
    {
      "cell_type": "markdown",
      "metadata": {
        "id": "_Rca1my7Ja1o"
      },
      "source": [
        "- First, we will check the **number** of missing values in each column."
      ]
    },
    {
      "cell_type": "code",
      "metadata": {
        "id": "VjefFjGnQyTZ",
        "outputId": "0eb5313a-0be5-44d8-a825-8f11b41b28b7",
        "colab": {
          "base_uri": "https://localhost:8080/",
          "height": 302
        }
      },
      "source": [
        "# Checking number of missing values\n",
        "sales_df.isnull().sum()"
      ],
      "execution_count": null,
      "outputs": [
        {
          "output_type": "execute_result",
          "data": {
            "text/plain": [
              "Store                0\n",
              "Dept                 0\n",
              "Date                 0\n",
              "Weekly_Sales         0\n",
              "IsHoliday            0\n",
              "Temperature          0\n",
              "Fuel_Price           0\n",
              "MarkDown1       270889\n",
              "MarkDown2       310322\n",
              "MarkDown3       284479\n",
              "MarkDown4       286603\n",
              "MarkDown5       270138\n",
              "CPI                  0\n",
              "Unemployment         0\n",
              "Type                 0\n",
              "Size                 0\n",
              "dtype: int64"
            ]
          },
          "metadata": {
            "tags": []
          },
          "execution_count": 9
        }
      ]
    },
    {
      "cell_type": "markdown",
      "metadata": {
        "id": "chyACtBCSfO-"
      },
      "source": [
        "- We know that each Markdown column has more than **64% missing values** from the Profiling Report.\n",
        "\n",
        "\n",
        "- But, we don't know for sure whether these **markdown events** were even *organized prior to November 2011*, so we should not just fill these values with the median value.\n",
        "  \n",
        "  - Instead we will **fill** the missing values with **0**, in order to maintain the integrity of the dataset."
      ]
    },
    {
      "cell_type": "code",
      "metadata": {
        "id": "1AfOj4w4QyQV"
      },
      "source": [
        "# Filling the missing values with 0\n",
        "sales_df.fillna(0, inplace=True)"
      ],
      "execution_count": null,
      "outputs": []
    },
    {
      "cell_type": "code",
      "metadata": {
        "id": "EJMiWf2ITEPs",
        "outputId": "725b9fde-7e9e-4fc4-fa09-dbb0876d692b",
        "colab": {
          "base_uri": "https://localhost:8080/",
          "height": 302
        }
      },
      "source": [
        "# Rechecking for missing values\n",
        "sales_df.isnull().sum()"
      ],
      "execution_count": null,
      "outputs": [
        {
          "output_type": "execute_result",
          "data": {
            "text/plain": [
              "Store           0\n",
              "Dept            0\n",
              "Date            0\n",
              "Weekly_Sales    0\n",
              "IsHoliday       0\n",
              "Temperature     0\n",
              "Fuel_Price      0\n",
              "MarkDown1       0\n",
              "MarkDown2       0\n",
              "MarkDown3       0\n",
              "MarkDown4       0\n",
              "MarkDown5       0\n",
              "CPI             0\n",
              "Unemployment    0\n",
              "Type            0\n",
              "Size            0\n",
              "dtype: int64"
            ]
          },
          "metadata": {
            "tags": []
          },
          "execution_count": 11
        }
      ]
    },
    {
      "cell_type": "markdown",
      "metadata": {
        "id": "7szXNRBrJpNV"
      },
      "source": [
        "- All the missing values in the data have been **filled**.\n",
        "\n",
        "- There are **no missing values** in the data now."
      ]
    },
    {
      "cell_type": "markdown",
      "metadata": {
        "id": "RAEwIDhLWY-N"
      },
      "source": [
        "<a id = Section502></a>\n",
        "### **5.2 Feature (Month) Extraction from Date**"
      ]
    },
    {
      "cell_type": "markdown",
      "metadata": {
        "id": "vodsrnrMJyrk"
      },
      "source": [
        "- We will **change** the **datatype** of the `Date` column from *Object* to *DateTime*."
      ]
    },
    {
      "cell_type": "code",
      "metadata": {
        "id": "W4Ita4b2V6Aj"
      },
      "source": [
        "# Changing the Date column's dtype from Object to DateTime\n",
        "sales_df['Date'] = pd.to_datetime(sales_df['Date'])"
      ],
      "execution_count": null,
      "outputs": []
    },
    {
      "cell_type": "markdown",
      "metadata": {
        "id": "rIyvn7MIXKZ9"
      },
      "source": [
        "- We can now use this `Date` column to extract **day**, **month** and **year** information as features.\n",
        "\n",
        "- But, we are **aggregating** the *sales on a weekly basis*, so there's no point in extracting the Day from the Date.\n",
        "\n",
        "- Also, the Year will only have **3 distinct** values 2010, 2011 and 2012.\n",
        "\n",
        "  - Sales can only be affected by Year due to some **rare phenomenon** like Stock Market Crashes, Disease Outbreaks, or Natual Disasters.\n",
        "\n",
        "  - Since, these can't be predicted in advance we can say that the **Year won't affect** the **weekly sales** of the stores.\n",
        "\n",
        "- As a result, we will only extract the **Month** information from the `Date` column."
      ]
    },
    {
      "cell_type": "code",
      "metadata": {
        "id": "4lDWKjE-WwCB"
      },
      "source": [
        "# Creating Month column in the sales_df after extracting the information from Date column\n",
        "sales_df['Month'] = sales_df['Date'].dt.month"
      ],
      "execution_count": null,
      "outputs": []
    },
    {
      "cell_type": "code",
      "metadata": {
        "id": "HcXCaoATWwc1",
        "outputId": "6b7590e9-13ef-4224-a4dd-443a9365a8dd",
        "colab": {
          "base_uri": "https://localhost:8080/",
          "height": 299
        }
      },
      "source": [
        "sales_df.head()"
      ],
      "execution_count": null,
      "outputs": [
        {
          "output_type": "execute_result",
          "data": {
            "text/html": [
              "<div>\n",
              "<style scoped>\n",
              "    .dataframe tbody tr th:only-of-type {\n",
              "        vertical-align: middle;\n",
              "    }\n",
              "\n",
              "    .dataframe tbody tr th {\n",
              "        vertical-align: top;\n",
              "    }\n",
              "\n",
              "    .dataframe thead th {\n",
              "        text-align: right;\n",
              "    }\n",
              "</style>\n",
              "<table border=\"1\" class=\"dataframe\">\n",
              "  <thead>\n",
              "    <tr style=\"text-align: right;\">\n",
              "      <th></th>\n",
              "      <th>Store</th>\n",
              "      <th>Dept</th>\n",
              "      <th>Date</th>\n",
              "      <th>Weekly_Sales</th>\n",
              "      <th>IsHoliday</th>\n",
              "      <th>Temperature</th>\n",
              "      <th>Fuel_Price</th>\n",
              "      <th>MarkDown1</th>\n",
              "      <th>MarkDown2</th>\n",
              "      <th>MarkDown3</th>\n",
              "      <th>MarkDown4</th>\n",
              "      <th>MarkDown5</th>\n",
              "      <th>CPI</th>\n",
              "      <th>Unemployment</th>\n",
              "      <th>Type</th>\n",
              "      <th>Size</th>\n",
              "      <th>Month</th>\n",
              "    </tr>\n",
              "  </thead>\n",
              "  <tbody>\n",
              "    <tr>\n",
              "      <th>0</th>\n",
              "      <td>1</td>\n",
              "      <td>1</td>\n",
              "      <td>2010-02-05</td>\n",
              "      <td>24924.50</td>\n",
              "      <td>False</td>\n",
              "      <td>42.31</td>\n",
              "      <td>2.572</td>\n",
              "      <td>0.0</td>\n",
              "      <td>0.0</td>\n",
              "      <td>0.0</td>\n",
              "      <td>0.0</td>\n",
              "      <td>0.0</td>\n",
              "      <td>211.0964</td>\n",
              "      <td>8.106</td>\n",
              "      <td>A</td>\n",
              "      <td>151315</td>\n",
              "      <td>2</td>\n",
              "    </tr>\n",
              "    <tr>\n",
              "      <th>1</th>\n",
              "      <td>1</td>\n",
              "      <td>2</td>\n",
              "      <td>2010-02-05</td>\n",
              "      <td>50605.27</td>\n",
              "      <td>False</td>\n",
              "      <td>42.31</td>\n",
              "      <td>2.572</td>\n",
              "      <td>0.0</td>\n",
              "      <td>0.0</td>\n",
              "      <td>0.0</td>\n",
              "      <td>0.0</td>\n",
              "      <td>0.0</td>\n",
              "      <td>211.0964</td>\n",
              "      <td>8.106</td>\n",
              "      <td>A</td>\n",
              "      <td>151315</td>\n",
              "      <td>2</td>\n",
              "    </tr>\n",
              "    <tr>\n",
              "      <th>2</th>\n",
              "      <td>1</td>\n",
              "      <td>3</td>\n",
              "      <td>2010-02-05</td>\n",
              "      <td>13740.12</td>\n",
              "      <td>False</td>\n",
              "      <td>42.31</td>\n",
              "      <td>2.572</td>\n",
              "      <td>0.0</td>\n",
              "      <td>0.0</td>\n",
              "      <td>0.0</td>\n",
              "      <td>0.0</td>\n",
              "      <td>0.0</td>\n",
              "      <td>211.0964</td>\n",
              "      <td>8.106</td>\n",
              "      <td>A</td>\n",
              "      <td>151315</td>\n",
              "      <td>2</td>\n",
              "    </tr>\n",
              "    <tr>\n",
              "      <th>3</th>\n",
              "      <td>1</td>\n",
              "      <td>4</td>\n",
              "      <td>2010-02-05</td>\n",
              "      <td>39954.04</td>\n",
              "      <td>False</td>\n",
              "      <td>42.31</td>\n",
              "      <td>2.572</td>\n",
              "      <td>0.0</td>\n",
              "      <td>0.0</td>\n",
              "      <td>0.0</td>\n",
              "      <td>0.0</td>\n",
              "      <td>0.0</td>\n",
              "      <td>211.0964</td>\n",
              "      <td>8.106</td>\n",
              "      <td>A</td>\n",
              "      <td>151315</td>\n",
              "      <td>2</td>\n",
              "    </tr>\n",
              "    <tr>\n",
              "      <th>4</th>\n",
              "      <td>1</td>\n",
              "      <td>5</td>\n",
              "      <td>2010-02-05</td>\n",
              "      <td>32229.38</td>\n",
              "      <td>False</td>\n",
              "      <td>42.31</td>\n",
              "      <td>2.572</td>\n",
              "      <td>0.0</td>\n",
              "      <td>0.0</td>\n",
              "      <td>0.0</td>\n",
              "      <td>0.0</td>\n",
              "      <td>0.0</td>\n",
              "      <td>211.0964</td>\n",
              "      <td>8.106</td>\n",
              "      <td>A</td>\n",
              "      <td>151315</td>\n",
              "      <td>2</td>\n",
              "    </tr>\n",
              "  </tbody>\n",
              "</table>\n",
              "</div>"
            ],
            "text/plain": [
              "   Store  Dept       Date  Weekly_Sales  IsHoliday  Temperature  Fuel_Price  \\\n",
              "0      1     1 2010-02-05      24924.50      False        42.31       2.572   \n",
              "1      1     2 2010-02-05      50605.27      False        42.31       2.572   \n",
              "2      1     3 2010-02-05      13740.12      False        42.31       2.572   \n",
              "3      1     4 2010-02-05      39954.04      False        42.31       2.572   \n",
              "4      1     5 2010-02-05      32229.38      False        42.31       2.572   \n",
              "\n",
              "   MarkDown1  MarkDown2  MarkDown3  MarkDown4  MarkDown5       CPI  \\\n",
              "0        0.0        0.0        0.0        0.0        0.0  211.0964   \n",
              "1        0.0        0.0        0.0        0.0        0.0  211.0964   \n",
              "2        0.0        0.0        0.0        0.0        0.0  211.0964   \n",
              "3        0.0        0.0        0.0        0.0        0.0  211.0964   \n",
              "4        0.0        0.0        0.0        0.0        0.0  211.0964   \n",
              "\n",
              "   Unemployment Type    Size  Month  \n",
              "0         8.106    A  151315      2  \n",
              "1         8.106    A  151315      2  \n",
              "2         8.106    A  151315      2  \n",
              "3         8.106    A  151315      2  \n",
              "4         8.106    A  151315      2  "
            ]
          },
          "metadata": {
            "tags": []
          },
          "execution_count": 14
        }
      ]
    },
    {
      "cell_type": "markdown",
      "metadata": {
        "id": "QYgO4-KJdVpJ"
      },
      "source": [
        "- `Month` column is added to the sales_df containing the **month** from the weekly sales date.\n",
        "\n",
        "- We can still see that we have two columns having **categorical / textual** data: `IsHoliday`, and `Type`.\n",
        "\n",
        "- We will **encode** these columns *after performing* the **analysis** on the data, so that they can be used in the model for prediction."
      ]
    },
    {
      "cell_type": "markdown",
      "metadata": {
        "id": "laW3b0K5dGcE"
      },
      "source": [
        "<a id = Section6></a>\n",
        "## **6. Exploratory Data Analysis**"
      ]
    },
    {
      "cell_type": "markdown",
      "metadata": {
        "id": "oaaLPQhkeHWe"
      },
      "source": [
        "### **Question 1: How are the stores distributed based on their Type?** "
      ]
    },
    {
      "cell_type": "code",
      "metadata": {
        "id": "sKodZDYFvEP4",
        "outputId": "308602d4-49ce-4856-85e0-5a5bbec32ff5",
        "colab": {
          "base_uri": "https://localhost:8080/",
          "height": 101
        }
      },
      "source": [
        "# Checking the count of each type of store\n",
        "sales_df.groupby(['Type'])['Store'].nunique()"
      ],
      "execution_count": null,
      "outputs": [
        {
          "output_type": "execute_result",
          "data": {
            "text/plain": [
              "Type\n",
              "A    22\n",
              "B    17\n",
              "C     6\n",
              "Name: Store, dtype: int64"
            ]
          },
          "metadata": {
            "tags": []
          },
          "execution_count": 17
        }
      ]
    },
    {
      "cell_type": "code",
      "metadata": {
        "id": "RQaY5bXjcq6S",
        "outputId": "98e96c08-daeb-4a0d-bd15-5629491624ac",
        "colab": {
          "base_uri": "https://localhost:8080/",
          "height": 522
        }
      },
      "source": [
        "# Plotting the Count and Proportional Distribution of Stores based on Type\n",
        "plt.figure(figsize=(16, 8))\n",
        "plt.subplot(1, 2, 1)\n",
        "\n",
        "# Plotting the count of each type of store\n",
        "sales_df.groupby(['Type'])['Store'].nunique().plot(kind='bar', colormap='Dark2', fontsize=12)\n",
        "plt.xlabel('')\n",
        "plt.ylabel('Number of Stores', fontsize=16)\n",
        "plt.title('Count of Each Type of Store', fontsize=18)\n",
        "\n",
        "plt.subplot(1, 2, 2)\n",
        "\n",
        "# Plotting the proportional distribution stores\n",
        "sales_df.groupby(['Type'])['Store'].nunique().plot(kind='pie', autopct='%1.1f%%', pctdistance=0.6, explode=(0.02, 0, 0), radius=0.9, \n",
        "                                                   colormap='viridis', legend=True, wedgeprops={'edgecolor':'black', 'linewidth':2}, \n",
        "                                                   textprops={'fontsize':20, 'color':'white'})\n",
        "plt.ylabel('Type', fontsize=16)\n",
        "plt.title('Proportional Distribution of Type', fontsize=18)"
      ],
      "execution_count": null,
      "outputs": [
        {
          "output_type": "execute_result",
          "data": {
            "text/plain": [
              "Text(0.5, 1.0, 'Proportional Distribution of Type')"
            ]
          },
          "metadata": {
            "tags": []
          },
          "execution_count": 18
        },
        {
          "output_type": "display_data",
          "data": {
            "image/png": "[encoded data removed]",
            "text/plain": [
              "<Figure size 1152x576 with 2 Axes>"
            ]
          },
          "metadata": {
            "tags": [],
            "needs_background": "light"
          }
        }
      ]
    },
    {
      "cell_type": "markdown",
      "metadata": {
        "id": "eC3YFKgGskhK"
      },
      "source": [
        "**Observations:**\n",
        "\n",
        "- Stores belonging to **Type A** have the highest number of counts with **22**, accounting for **48.9%** of all stores in the data.\n",
        "\n",
        "- **Type B** stores have **17** counts followed by **Type C** stores with **6** counts.\n",
        "\n",
        "  - **37.8%** stores belong to type **B** and the remaining **13.3%** stores belong to the type **C**."
      ]
    },
    {
      "cell_type": "markdown",
      "metadata": {
        "id": "jYEwgJlx1y0D"
      },
      "source": [
        "- We now know the proportional distribution of stores based on their type, but can we find some other relationship between the other features."
      ]
    },
    {
      "cell_type": "markdown",
      "metadata": {
        "id": "R4MQZbBWxh9u"
      },
      "source": [
        "### **Question 2: Is the Size of the Store related to the Type of the Store?**"
      ]
    },
    {
      "cell_type": "code",
      "metadata": {
        "id": "gZ3ZX9jTcq9O",
        "outputId": "ca206462-b06f-4fc3-9b98-0d0bb593a0ae",
        "colab": {
          "base_uri": "https://localhost:8080/",
          "height": 539
        }
      },
      "source": [
        "plt.figure(figsize=(8, 8))\n",
        "sns.boxplot(data=sales_df, x='Type', y='Size', palette='winter', width=0.8)\n",
        "plt.xlabel('Type', fontsize=14)\n",
        "plt.ylabel('Size', fontsize=14)\n",
        "plt.title('Relationship Between the Size and Type of the Store', fontsize=16)"
      ],
      "execution_count": null,
      "outputs": [
        {
          "output_type": "execute_result",
          "data": {
            "text/plain": [
              "Text(0.5, 1.0, 'Relationship Between the Size and Type of the Store')"
            ]
          },
          "metadata": {
            "tags": []
          },
          "execution_count": 19
        },
        {
          "output_type": "display_data",
          "data": {
            "image/png": "[encoded data removed]",
            "text/plain": [
              "<Figure size 576x576 with 1 Axes>"
            ]
          },
          "metadata": {
            "tags": [],
            "needs_background": "light"
          }
        }
      ]
    },
    {
      "cell_type": "markdown",
      "metadata": {
        "id": "m4LQQ1XHzZmm"
      },
      "source": [
        "**Observations:**\n",
        "\n",
        "- **Type A** stores have the **largest** size, followed by Type B stores.\n",
        "\n",
        "- **Type C** stores have the **smallest** size.\n",
        "\n",
        "- There is **no overlapped area** in *size among A, B, and C* which means that *Type* is the **best predictor** for the *Size* of the store.\n",
        "\n",
        "- We infer that Type might just be a **proxy** or **alias** for the Size of the store. \n",
        "- **Larger stores** might have **higher weekly sales**.\n",
        "\n",
        "- Can we see a relationship between the `Type` and `Weekly_Sales` of a store."
      ]
    },
    {
      "cell_type": "markdown",
      "metadata": {
        "id": "dlVSDTgL10oD"
      },
      "source": [
        "### **Question 3: Does the Larger Sized Stores have Higher Weekly Sales?**"
      ]
    },
    {
      "cell_type": "code",
      "metadata": {
        "id": "ZWL-GfV1crAM",
        "outputId": "423cc979-2e18-40ba-cd07-86a9b01b0bb7",
        "colab": {
          "base_uri": "https://localhost:8080/",
          "height": 539
        }
      },
      "source": [
        "plt.figure(figsize=(8, 8))\n",
        "sns.boxplot(data=sales_df, x='Type', y='Weekly_Sales', width=0.8, showfliers=False)\n",
        "plt.xlabel('Type', fontsize=14)\n",
        "plt.ylabel('Weekly Sales', fontsize=14)\n",
        "plt.title('Relationship Between the Weekly Sales and Type of the Store', fontsize=16)"
      ],
      "execution_count": null,
      "outputs": [
        {
          "output_type": "execute_result",
          "data": {
            "text/plain": [
              "Text(0.5, 1.0, 'Relationship Between the Weekly Sales and Type of the Store')"
            ]
          },
          "metadata": {
            "tags": []
          },
          "execution_count": 20
        },
        {
          "output_type": "display_data",
          "data": {
            "image/png": "[encoded data removed]",
            "text/plain": [
              "<Figure size 576x576 with 1 Axes>"
            ]
          },
          "metadata": {
            "tags": [],
            "needs_background": "light"
          }
        }
      ]
    },
    {
      "cell_type": "markdown",
      "metadata": {
        "id": "KT2X_h7D3cNs"
      },
      "source": [
        "**Observations:**\n",
        "\n",
        "- The **median** of **A** is the **highest** and **C** is the **lowest**.\n",
        "\n",
        "- Also, the order of median of size and median of sales is the same.\n",
        "\n",
        "- That means the stores with **larger sizes** have **higher sales** record."
      ]
    },
    {
      "cell_type": "markdown",
      "metadata": {
        "id": "WInNxyx85Tgc"
      },
      "source": [
        "### **Question 4: Is there a Strong Positive Correlation between the Size and the Weekly Sales of a Store?**"
      ]
    },
    {
      "cell_type": "code",
      "metadata": {
        "id": "5waoh6z--kQk",
        "outputId": "2e25580d-41dc-4739-9256-b2c2deecac9a",
        "colab": {
          "base_uri": "https://localhost:8080/",
          "height": 539
        }
      },
      "source": [
        "sales_df.plot(kind='scatter', x='Size', y='Weekly_Sales', alpha=0.5, figsize=(10, 8), color='Orange')\n",
        "plt.xlabel('Size', fontsize=14)\n",
        "plt.ylabel('Weekly Sales', fontsize=14)\n",
        "plt.title('Relationship Between the Weekly Sales and Size of the Store', fontsize=16)"
      ],
      "execution_count": null,
      "outputs": [
        {
          "output_type": "execute_result",
          "data": {
            "text/plain": [
              "Text(0.5, 1.0, 'Relationship Between the Weekly Sales and Size of the Store')"
            ]
          },
          "metadata": {
            "tags": []
          },
          "execution_count": 21
        },
        {
          "output_type": "display_data",
          "data": {
            "image/png": "[encoded data removed]",
            "text/plain": [
              "<Figure size 720x576 with 1 Axes>"
            ]
          },
          "metadata": {
            "tags": [],
            "needs_background": "light"
          }
        }
      ]
    },
    {
      "cell_type": "markdown",
      "metadata": {
        "id": "MoHquwz2_gBj"
      },
      "source": [
        "**Observations:**\n",
        "\n",
        "- Based on this plot, the results don't look so good.\n",
        "\n",
        "- We **can't infer** any **distinct relationship** between *size* and *sales*.\n",
        "\n",
        "- It seems a bit **linear**."
      ]
    },
    {
      "cell_type": "markdown",
      "metadata": {
        "id": "W0NXSJ_dCf6R"
      },
      "source": [
        "### **Question 5: How does each Store perform on the basis of Weekly Sales?**"
      ]
    },
    {
      "cell_type": "code",
      "metadata": {
        "id": "DE_5BSe1csBg",
        "outputId": "0db6b871-1112-4331-b399-bcf417040a7a",
        "colab": {
          "base_uri": "https://localhost:8080/",
          "height": 485
        }
      },
      "source": [
        "plt.figure(figsize=(19, 7))\n",
        "sns.boxplot(data=sales_df, x='Store', y='Weekly_Sales', hue='Type', showfliers=False, palette='rainbow')\n",
        "plt.xlabel('Store', fontsize=14)\n",
        "plt.ylabel('Weekly Sales', fontsize=14)\n",
        "plt.title('Weekly Sales of Each Store with respect to the Type of the Store', fontsize=16)"
      ],
      "execution_count": null,
      "outputs": [
        {
          "output_type": "execute_result",
          "data": {
            "text/plain": [
              "Text(0.5, 1.0, 'Weekly Sales of Each Store with respect to the Type of the Store')"
            ]
          },
          "metadata": {
            "tags": []
          },
          "execution_count": 23
        },
        {
          "output_type": "display_data",
          "data": {
            "image/png": "[encoded data removed]",
            "text/plain": [
              "<Figure size 1368x504 with 1 Axes>"
            ]
          },
          "metadata": {
            "tags": [],
            "needs_background": "light"
          }
        }
      ]
    },
    {
      "cell_type": "markdown",
      "metadata": {
        "id": "bbeos0fMGxW6"
      },
      "source": [
        "**Observations:**\n",
        "\n",
        "- Each store has a **distinct distribution** of weekly sales throughout the dataset.\n",
        "\n",
        "- Most of the **Type A** stores have **higher weekly sales record** than other type stores."
      ]
    },
    {
      "cell_type": "markdown",
      "metadata": {
        "id": "CDH3UdxcMbSj"
      },
      "source": [
        "- `Store` can be the variable giving **important information** on weekly sales.\n",
        "\n",
        "- But it is including so much **intrinsic information** of *Type*, *Size*, and *Department*.\n",
        "\n",
        "- We need to segment this information into distinct plots."
      ]
    },
    {
      "cell_type": "markdown",
      "metadata": {
        "id": "aKy9dnJwPZ4E"
      },
      "source": [
        "**Observation:**\n",
        "\n",
        "- There **isn't a significant relationship** between the weekly sales of the stores for holidays and non-holidays.\n",
        "\n",
        "- But, we do see **higher weekly sales** soaring during the **holiday weeks**."
      ]
    },
    {
      "cell_type": "markdown",
      "metadata": {
        "id": "pEFb1TCZTcLj"
      },
      "source": [
        "### **Question 6: Does the Weekly Sales for each Department vary with the Size of the Store?**\n"
      ]
    },
    {
      "cell_type": "code",
      "metadata": {
        "id": "YmwQVL4-TcVG",
        "outputId": "4ff8d25b-c95b-4673-a0a4-54ba20aad109",
        "colab": {
          "base_uri": "https://localhost:8080/",
          "height": 1000
        }
      },
      "source": [
        "plt.figure(figsize=(13, 60))\n",
        "sns.boxplot(data=sales_df, x='Weekly_Sales', y='Dept', hue='Type', orient='h', showfliers=False)\n",
        "plt.xlabel('Weekly Sales', fontsize=14)\n",
        "plt.ylabel('Department', fontsize=14)\n",
        "plt.title('Weekly Sales of Each Department with respect to the Type of the Store', fontsize=16)"
      ],
      "execution_count": null,
      "outputs": [
        {
          "output_type": "execute_result",
          "data": {
            "text/plain": [
              "Text(0.5, 1.0, 'Weekly Sales of Each Department with respect to the Type of the Store')"
            ]
          },
          "metadata": {
            "tags": []
          },
          "execution_count": 26
        },
        {
          "output_type": "display_data",
          "data": {
            "image/png": "[encoded data removed]",
            "text/plain": [
              "<Figure size 936x4320 with 1 Axes>"
            ]
          },
          "metadata": {
            "tags": [],
            "needs_background": "light"
          }
        }
      ]
    },
    {
      "cell_type": "markdown",
      "metadata": {
        "id": "Fcbire_CUxkF"
      },
      "source": [
        "**Observations:**\n",
        "\n",
        "- We can clearly observe that the Departments belonging to **Type A** stores have the **highest sales record**.\n",
        "\n",
        "- This can imply that *departments at* the **larger stores** have **higher weekly sales record** than those at the *smaller stores*."
      ]
    },
    {
      "cell_type": "markdown",
      "metadata": {
        "id": "_qtSLelLNyqe"
      },
      "source": [
        "### **Question 7: Do the Holidays impact the Weekly Sales of the Stores?**"
      ]
    },
    {
      "cell_type": "code",
      "metadata": {
        "id": "md6gA18ccsD8",
        "outputId": "ffc8a904-62c2-4faa-d706-ce3542994c6e",
        "colab": {
          "base_uri": "https://localhost:8080/",
          "height": 484
        }
      },
      "source": [
        "plt.figure(figsize=(19, 7))\n",
        "sns.boxplot(data=sales_df, x='Store', y='Weekly_Sales', hue='IsHoliday', showfliers=False, palette='Accent')\n",
        "plt.xlabel('Store', fontsize=14)\n",
        "plt.ylabel('Weekly Sales', fontsize=14)\n",
        "plt.title('Weekly Sales of Each Store for Holiday and Non-Holiday Weeks', fontsize=16)"
      ],
      "execution_count": null,
      "outputs": [
        {
          "output_type": "execute_result",
          "data": {
            "text/plain": [
              "Text(0.5, 1.0, 'Weekly Sales of Each Store for Holiday and Non-Holiday Weeks')"
            ]
          },
          "metadata": {
            "tags": []
          },
          "execution_count": 24
        },
        {
          "output_type": "display_data",
          "data": {
            "image/png": "[encoded data removed]",
            "text/plain": [
              "<Figure size 1368x504 with 1 Axes>"
            ]
          },
          "metadata": {
            "tags": [],
            "needs_background": "light"
          }
        }
      ]
    },
    {
      "cell_type": "markdown",
      "metadata": {
        "id": "5e3oaewmThWO"
      },
      "source": [
        "### **Question 8: How does the Weekly Sales vary for each Month?**\n"
      ]
    },
    {
      "cell_type": "code",
      "metadata": {
        "id": "c1ODfnTaTfLX",
        "outputId": "50718c61-8053-4dac-f3e8-4d373917c7f6",
        "colab": {
          "base_uri": "https://localhost:8080/",
          "height": 485
        }
      },
      "source": [
        "plt.figure(figsize=(17, 7))\n",
        "sns.boxplot(data=sales_df, x='Month', y='Weekly_Sales', showfliers=False)\n",
        "plt.xlabel('Month', fontsize=14)\n",
        "plt.ylabel('Weekly Sales', fontsize=14)\n",
        "plt.title('Weekly Sales during Each Month', fontsize=16)"
      ],
      "execution_count": null,
      "outputs": [
        {
          "output_type": "execute_result",
          "data": {
            "text/plain": [
              "Text(0.5, 1.0, 'Weekly Sales during Each Month')"
            ]
          },
          "metadata": {
            "tags": []
          },
          "execution_count": 30
        },
        {
          "output_type": "display_data",
          "data": {
            "image/png": "[encoded data removed]",
            "text/plain": [
              "<Figure size 1224x504 with 1 Axes>"
            ]
          },
          "metadata": {
            "tags": [],
            "needs_background": "light"
          }
        }
      ]
    },
    {
      "cell_type": "markdown",
      "metadata": {
        "id": "6oH3z2sTe54z"
      },
      "source": [
        "**Observations:**\n",
        "\n",
        "- Month **12** i. e. **December** has the **highest sales record** than any other month.\n",
        "\n",
        "  - This might be due to the fact that most people do their **Christmas shopping** during this time.\n",
        "\n",
        "- Also, Month **1** i. e. **January** has the lowest median weekly sales compared to other months.\n",
        "\n",
        "  - This might be because of the **New Year Resolutions** made by people, which prevent them from buying certain things in January."
      ]
    },
    {
      "cell_type": "markdown",
      "metadata": {
        "id": "2qjgUPUpdwVC"
      },
      "source": [
        "### **Question 9: Does the Store Size have an effect on the Weekly Sales of each Month?**"
      ]
    },
    {
      "cell_type": "code",
      "metadata": {
        "id": "dnjiid_hdvgc",
        "outputId": "801df938-a9ec-4e1b-f6ce-5681024bb5d3",
        "colab": {
          "base_uri": "https://localhost:8080/",
          "height": 485
        }
      },
      "source": [
        "plt.figure(figsize=(19, 7))\n",
        "sns.boxplot(data=sales_df, x='Month', y='Weekly_Sales', hue='Type', showfliers=False, palette='spring')\n",
        "plt.xlabel('Month', fontsize=14)\n",
        "plt.ylabel('Weekly Sales', fontsize=14)\n",
        "plt.title('Weekly Sales during Each Month with respect to the Type of the Store', fontsize=16)"
      ],
      "execution_count": null,
      "outputs": [
        {
          "output_type": "execute_result",
          "data": {
            "text/plain": [
              "Text(0.5, 1.0, 'Weekly Sales during Each Month with respect to the Type of the Store')"
            ]
          },
          "metadata": {
            "tags": []
          },
          "execution_count": 32
        },
        {
          "output_type": "display_data",
          "data": {
            "image/png": "[encoded data removed]",
            "text/plain": [
              "<Figure size 1368x504 with 1 Axes>"
            ]
          },
          "metadata": {
            "tags": [],
            "needs_background": "light"
          }
        }
      ]
    },
    {
      "cell_type": "markdown",
      "metadata": {
        "id": "JUX1yeEUfuOY"
      },
      "source": [
        "**Observations:**\n",
        "\n",
        "- Again, we can see that the **Type A** stores have the **highest weekly sales record** for **each month**.\n",
        "\n",
        "- This means that the **larger stores** have **higher sales record** each month than the smaller stores."
      ]
    },
    {
      "cell_type": "markdown",
      "metadata": {
        "id": "y47Osv3uqtgI"
      },
      "source": [
        "<a id = Section7></a>\n",
        "## **7. Post Data Processing & Analysis**"
      ]
    },
    {
      "cell_type": "markdown",
      "metadata": {
        "id": "QI6iAif5bPTU"
      },
      "source": [
        "<a id = Section701></a>\n",
        "### **7.1 Encoding Categorical Data**"
      ]
    },
    {
      "cell_type": "markdown",
      "metadata": {
        "id": "oVhRdTSx66U-"
      },
      "source": [
        "- The `Type` column in the dataset contains **categorical** data.\n",
        "\n",
        "- It has **3** distinct values: **A**, **B**, and **C**.\n",
        "\n",
        "- We will use **dummy encoding** to achieve this."
      ]
    },
    {
      "cell_type": "code",
      "metadata": {
        "id": "ckInYQiKTzNC",
        "outputId": "0fb0e5ac-834e-4f95-cb8f-52b7ee4adc33",
        "colab": {
          "base_uri": "https://localhost:8080/",
          "height": 299
        }
      },
      "source": [
        "# Creating dummy variable of the Type column\n",
        "sales_df = pd.get_dummies(sales_df, columns=['Type'])\n",
        "sales_df.head()"
      ],
      "execution_count": null,
      "outputs": [
        {
          "output_type": "execute_result",
          "data": {
            "text/html": [
              "<div>\n",
              "<style scoped>\n",
              "    .dataframe tbody tr th:only-of-type {\n",
              "        vertical-align: middle;\n",
              "    }\n",
              "\n",
              "    .dataframe tbody tr th {\n",
              "        vertical-align: top;\n",
              "    }\n",
              "\n",
              "    .dataframe thead th {\n",
              "        text-align: right;\n",
              "    }\n",
              "</style>\n",
              "<table border=\"1\" class=\"dataframe\">\n",
              "  <thead>\n",
              "    <tr style=\"text-align: right;\">\n",
              "      <th></th>\n",
              "      <th>Store</th>\n",
              "      <th>Dept</th>\n",
              "      <th>Date</th>\n",
              "      <th>Weekly_Sales</th>\n",
              "      <th>IsHoliday</th>\n",
              "      <th>Temperature</th>\n",
              "      <th>Fuel_Price</th>\n",
              "      <th>MarkDown1</th>\n",
              "      <th>MarkDown2</th>\n",
              "      <th>MarkDown3</th>\n",
              "      <th>MarkDown4</th>\n",
              "      <th>MarkDown5</th>\n",
              "      <th>CPI</th>\n",
              "      <th>Unemployment</th>\n",
              "      <th>Size</th>\n",
              "      <th>Month</th>\n",
              "      <th>Type_A</th>\n",
              "      <th>Type_B</th>\n",
              "      <th>Type_C</th>\n",
              "    </tr>\n",
              "  </thead>\n",
              "  <tbody>\n",
              "    <tr>\n",
              "      <th>0</th>\n",
              "      <td>1</td>\n",
              "      <td>1</td>\n",
              "      <td>2010-02-05</td>\n",
              "      <td>24924.50</td>\n",
              "      <td>False</td>\n",
              "      <td>42.31</td>\n",
              "      <td>2.572</td>\n",
              "      <td>0.0</td>\n",
              "      <td>0.0</td>\n",
              "      <td>0.0</td>\n",
              "      <td>0.0</td>\n",
              "      <td>0.0</td>\n",
              "      <td>211.0964</td>\n",
              "      <td>8.106</td>\n",
              "      <td>151315</td>\n",
              "      <td>2</td>\n",
              "      <td>1</td>\n",
              "      <td>0</td>\n",
              "      <td>0</td>\n",
              "    </tr>\n",
              "    <tr>\n",
              "      <th>1</th>\n",
              "      <td>1</td>\n",
              "      <td>2</td>\n",
              "      <td>2010-02-05</td>\n",
              "      <td>50605.27</td>\n",
              "      <td>False</td>\n",
              "      <td>42.31</td>\n",
              "      <td>2.572</td>\n",
              "      <td>0.0</td>\n",
              "      <td>0.0</td>\n",
              "      <td>0.0</td>\n",
              "      <td>0.0</td>\n",
              "      <td>0.0</td>\n",
              "      <td>211.0964</td>\n",
              "      <td>8.106</td>\n",
              "      <td>151315</td>\n",
              "      <td>2</td>\n",
              "      <td>1</td>\n",
              "      <td>0</td>\n",
              "      <td>0</td>\n",
              "    </tr>\n",
              "    <tr>\n",
              "      <th>2</th>\n",
              "      <td>1</td>\n",
              "      <td>3</td>\n",
              "      <td>2010-02-05</td>\n",
              "      <td>13740.12</td>\n",
              "      <td>False</td>\n",
              "      <td>42.31</td>\n",
              "      <td>2.572</td>\n",
              "      <td>0.0</td>\n",
              "      <td>0.0</td>\n",
              "      <td>0.0</td>\n",
              "      <td>0.0</td>\n",
              "      <td>0.0</td>\n",
              "      <td>211.0964</td>\n",
              "      <td>8.106</td>\n",
              "      <td>151315</td>\n",
              "      <td>2</td>\n",
              "      <td>1</td>\n",
              "      <td>0</td>\n",
              "      <td>0</td>\n",
              "    </tr>\n",
              "    <tr>\n",
              "      <th>3</th>\n",
              "      <td>1</td>\n",
              "      <td>4</td>\n",
              "      <td>2010-02-05</td>\n",
              "      <td>39954.04</td>\n",
              "      <td>False</td>\n",
              "      <td>42.31</td>\n",
              "      <td>2.572</td>\n",
              "      <td>0.0</td>\n",
              "      <td>0.0</td>\n",
              "      <td>0.0</td>\n",
              "      <td>0.0</td>\n",
              "      <td>0.0</td>\n",
              "      <td>211.0964</td>\n",
              "      <td>8.106</td>\n",
              "      <td>151315</td>\n",
              "      <td>2</td>\n",
              "      <td>1</td>\n",
              "      <td>0</td>\n",
              "      <td>0</td>\n",
              "    </tr>\n",
              "    <tr>\n",
              "      <th>4</th>\n",
              "      <td>1</td>\n",
              "      <td>5</td>\n",
              "      <td>2010-02-05</td>\n",
              "      <td>32229.38</td>\n",
              "      <td>False</td>\n",
              "      <td>42.31</td>\n",
              "      <td>2.572</td>\n",
              "      <td>0.0</td>\n",
              "      <td>0.0</td>\n",
              "      <td>0.0</td>\n",
              "      <td>0.0</td>\n",
              "      <td>0.0</td>\n",
              "      <td>211.0964</td>\n",
              "      <td>8.106</td>\n",
              "      <td>151315</td>\n",
              "      <td>2</td>\n",
              "      <td>1</td>\n",
              "      <td>0</td>\n",
              "      <td>0</td>\n",
              "    </tr>\n",
              "  </tbody>\n",
              "</table>\n",
              "</div>"
            ],
            "text/plain": [
              "   Store  Dept       Date  Weekly_Sales  IsHoliday  Temperature  Fuel_Price  \\\n",
              "0      1     1 2010-02-05      24924.50      False        42.31       2.572   \n",
              "1      1     2 2010-02-05      50605.27      False        42.31       2.572   \n",
              "2      1     3 2010-02-05      13740.12      False        42.31       2.572   \n",
              "3      1     4 2010-02-05      39954.04      False        42.31       2.572   \n",
              "4      1     5 2010-02-05      32229.38      False        42.31       2.572   \n",
              "\n",
              "   MarkDown1  MarkDown2  MarkDown3  MarkDown4  MarkDown5       CPI  \\\n",
              "0        0.0        0.0        0.0        0.0        0.0  211.0964   \n",
              "1        0.0        0.0        0.0        0.0        0.0  211.0964   \n",
              "2        0.0        0.0        0.0        0.0        0.0  211.0964   \n",
              "3        0.0        0.0        0.0        0.0        0.0  211.0964   \n",
              "4        0.0        0.0        0.0        0.0        0.0  211.0964   \n",
              "\n",
              "   Unemployment    Size  Month  Type_A  Type_B  Type_C  \n",
              "0         8.106  151315      2       1       0       0  \n",
              "1         8.106  151315      2       1       0       0  \n",
              "2         8.106  151315      2       1       0       0  \n",
              "3         8.106  151315      2       1       0       0  \n",
              "4         8.106  151315      2       1       0       0  "
            ]
          },
          "metadata": {
            "tags": []
          },
          "execution_count": 34
        }
      ]
    },
    {
      "cell_type": "markdown",
      "metadata": {
        "id": "brc13lKuA3kE"
      },
      "source": [
        "<a id = Section702></a>\n",
        "### **7.2 Feature (Day) Extraction from Date**"
      ]
    },
    {
      "cell_type": "markdown",
      "metadata": {
        "id": "VJf_pr9jA9wq"
      },
      "source": [
        "- During Data Preprocessing we **didn't extracted** the **day** information from the `Date` because it wouldn't have helped us during the analysis.\n",
        "\n",
        "- But, the ML *models can't process* **DateTime** format features and hence we need to **remove** the *Date column* from the dataset *before training* our models.\n",
        "\n",
        "- So, in order to conserve the weekly date information, we will create a **Day** column by **extracting** the *day information* from the date."
      ]
    },
    {
      "cell_type": "code",
      "metadata": {
        "id": "LK9s5zswTzLj",
        "outputId": "d2002402-bddc-4da0-cd19-7f5fa832bf44",
        "colab": {
          "base_uri": "https://localhost:8080/",
          "height": 299
        }
      },
      "source": [
        "# Creating Day column in the sales_df after extracting the information from Date column\n",
        "sales_df['Day'] = sales_df['Date'].dt.day\n",
        "sales_df.head()"
      ],
      "execution_count": null,
      "outputs": [
        {
          "output_type": "execute_result",
          "data": {
            "text/html": [
              "<div>\n",
              "<style scoped>\n",
              "    .dataframe tbody tr th:only-of-type {\n",
              "        vertical-align: middle;\n",
              "    }\n",
              "\n",
              "    .dataframe tbody tr th {\n",
              "        vertical-align: top;\n",
              "    }\n",
              "\n",
              "    .dataframe thead th {\n",
              "        text-align: right;\n",
              "    }\n",
              "</style>\n",
              "<table border=\"1\" class=\"dataframe\">\n",
              "  <thead>\n",
              "    <tr style=\"text-align: right;\">\n",
              "      <th></th>\n",
              "      <th>Store</th>\n",
              "      <th>Dept</th>\n",
              "      <th>Date</th>\n",
              "      <th>Weekly_Sales</th>\n",
              "      <th>IsHoliday</th>\n",
              "      <th>Temperature</th>\n",
              "      <th>Fuel_Price</th>\n",
              "      <th>MarkDown1</th>\n",
              "      <th>MarkDown2</th>\n",
              "      <th>MarkDown3</th>\n",
              "      <th>MarkDown4</th>\n",
              "      <th>MarkDown5</th>\n",
              "      <th>CPI</th>\n",
              "      <th>Unemployment</th>\n",
              "      <th>Size</th>\n",
              "      <th>Month</th>\n",
              "      <th>Type_A</th>\n",
              "      <th>Type_B</th>\n",
              "      <th>Type_C</th>\n",
              "      <th>Day</th>\n",
              "    </tr>\n",
              "  </thead>\n",
              "  <tbody>\n",
              "    <tr>\n",
              "      <th>0</th>\n",
              "      <td>1</td>\n",
              "      <td>1</td>\n",
              "      <td>2010-02-05</td>\n",
              "      <td>24924.50</td>\n",
              "      <td>False</td>\n",
              "      <td>42.31</td>\n",
              "      <td>2.572</td>\n",
              "      <td>0.0</td>\n",
              "      <td>0.0</td>\n",
              "      <td>0.0</td>\n",
              "      <td>0.0</td>\n",
              "      <td>0.0</td>\n",
              "      <td>211.0964</td>\n",
              "      <td>8.106</td>\n",
              "      <td>151315</td>\n",
              "      <td>2</td>\n",
              "      <td>1</td>\n",
              "      <td>0</td>\n",
              "      <td>0</td>\n",
              "      <td>5</td>\n",
              "    </tr>\n",
              "    <tr>\n",
              "      <th>1</th>\n",
              "      <td>1</td>\n",
              "      <td>2</td>\n",
              "      <td>2010-02-05</td>\n",
              "      <td>50605.27</td>\n",
              "      <td>False</td>\n",
              "      <td>42.31</td>\n",
              "      <td>2.572</td>\n",
              "      <td>0.0</td>\n",
              "      <td>0.0</td>\n",
              "      <td>0.0</td>\n",
              "      <td>0.0</td>\n",
              "      <td>0.0</td>\n",
              "      <td>211.0964</td>\n",
              "      <td>8.106</td>\n",
              "      <td>151315</td>\n",
              "      <td>2</td>\n",
              "      <td>1</td>\n",
              "      <td>0</td>\n",
              "      <td>0</td>\n",
              "      <td>5</td>\n",
              "    </tr>\n",
              "    <tr>\n",
              "      <th>2</th>\n",
              "      <td>1</td>\n",
              "      <td>3</td>\n",
              "      <td>2010-02-05</td>\n",
              "      <td>13740.12</td>\n",
              "      <td>False</td>\n",
              "      <td>42.31</td>\n",
              "      <td>2.572</td>\n",
              "      <td>0.0</td>\n",
              "      <td>0.0</td>\n",
              "      <td>0.0</td>\n",
              "      <td>0.0</td>\n",
              "      <td>0.0</td>\n",
              "      <td>211.0964</td>\n",
              "      <td>8.106</td>\n",
              "      <td>151315</td>\n",
              "      <td>2</td>\n",
              "      <td>1</td>\n",
              "      <td>0</td>\n",
              "      <td>0</td>\n",
              "      <td>5</td>\n",
              "    </tr>\n",
              "    <tr>\n",
              "      <th>3</th>\n",
              "      <td>1</td>\n",
              "      <td>4</td>\n",
              "      <td>2010-02-05</td>\n",
              "      <td>39954.04</td>\n",
              "      <td>False</td>\n",
              "      <td>42.31</td>\n",
              "      <td>2.572</td>\n",
              "      <td>0.0</td>\n",
              "      <td>0.0</td>\n",
              "      <td>0.0</td>\n",
              "      <td>0.0</td>\n",
              "      <td>0.0</td>\n",
              "      <td>211.0964</td>\n",
              "      <td>8.106</td>\n",
              "      <td>151315</td>\n",
              "      <td>2</td>\n",
              "      <td>1</td>\n",
              "      <td>0</td>\n",
              "      <td>0</td>\n",
              "      <td>5</td>\n",
              "    </tr>\n",
              "    <tr>\n",
              "      <th>4</th>\n",
              "      <td>1</td>\n",
              "      <td>5</td>\n",
              "      <td>2010-02-05</td>\n",
              "      <td>32229.38</td>\n",
              "      <td>False</td>\n",
              "      <td>42.31</td>\n",
              "      <td>2.572</td>\n",
              "      <td>0.0</td>\n",
              "      <td>0.0</td>\n",
              "      <td>0.0</td>\n",
              "      <td>0.0</td>\n",
              "      <td>0.0</td>\n",
              "      <td>211.0964</td>\n",
              "      <td>8.106</td>\n",
              "      <td>151315</td>\n",
              "      <td>2</td>\n",
              "      <td>1</td>\n",
              "      <td>0</td>\n",
              "      <td>0</td>\n",
              "      <td>5</td>\n",
              "    </tr>\n",
              "  </tbody>\n",
              "</table>\n",
              "</div>"
            ],
            "text/plain": [
              "   Store  Dept       Date  Weekly_Sales  IsHoliday  Temperature  Fuel_Price  \\\n",
              "0      1     1 2010-02-05      24924.50      False        42.31       2.572   \n",
              "1      1     2 2010-02-05      50605.27      False        42.31       2.572   \n",
              "2      1     3 2010-02-05      13740.12      False        42.31       2.572   \n",
              "3      1     4 2010-02-05      39954.04      False        42.31       2.572   \n",
              "4      1     5 2010-02-05      32229.38      False        42.31       2.572   \n",
              "\n",
              "   MarkDown1  MarkDown2  MarkDown3  MarkDown4  MarkDown5       CPI  \\\n",
              "0        0.0        0.0        0.0        0.0        0.0  211.0964   \n",
              "1        0.0        0.0        0.0        0.0        0.0  211.0964   \n",
              "2        0.0        0.0        0.0        0.0        0.0  211.0964   \n",
              "3        0.0        0.0        0.0        0.0        0.0  211.0964   \n",
              "4        0.0        0.0        0.0        0.0        0.0  211.0964   \n",
              "\n",
              "   Unemployment    Size  Month  Type_A  Type_B  Type_C  Day  \n",
              "0         8.106  151315      2       1       0       0    5  \n",
              "1         8.106  151315      2       1       0       0    5  \n",
              "2         8.106  151315      2       1       0       0    5  \n",
              "3         8.106  151315      2       1       0       0    5  \n",
              "4         8.106  151315      2       1       0       0    5  "
            ]
          },
          "metadata": {
            "tags": []
          },
          "execution_count": 35
        }
      ]
    },
    {
      "cell_type": "markdown",
      "metadata": {
        "id": "CJr89YpeCRTT"
      },
      "source": [
        "- `Day` column is created in the dataframe containing the **day** value from the `Date` column. "
      ]
    },
    {
      "cell_type": "code",
      "metadata": {
        "id": "-yB0gVYhq0UM"
      },
      "source": [
        "# Removing Date column from sales_df\n",
        "sales_df.drop(['Date'], axis=1, inplace=True)"
      ],
      "execution_count": null,
      "outputs": []
    },
    {
      "cell_type": "code",
      "metadata": {
        "id": "E_XfqozIq0Pm",
        "outputId": "4913ea24-ceb4-4315-95c3-acd5c8bd9a95",
        "colab": {
          "base_uri": "https://localhost:8080/",
          "height": 215
        }
      },
      "source": [
        "sales_df.head()"
      ],
      "execution_count": null,
      "outputs": [
        {
          "output_type": "execute_result",
          "data": {
            "text/html": [
              "<div>\n",
              "<style scoped>\n",
              "    .dataframe tbody tr th:only-of-type {\n",
              "        vertical-align: middle;\n",
              "    }\n",
              "\n",
              "    .dataframe tbody tr th {\n",
              "        vertical-align: top;\n",
              "    }\n",
              "\n",
              "    .dataframe thead th {\n",
              "        text-align: right;\n",
              "    }\n",
              "</style>\n",
              "<table border=\"1\" class=\"dataframe\">\n",
              "  <thead>\n",
              "    <tr style=\"text-align: right;\">\n",
              "      <th></th>\n",
              "      <th>Store</th>\n",
              "      <th>Dept</th>\n",
              "      <th>Weekly_Sales</th>\n",
              "      <th>IsHoliday</th>\n",
              "      <th>Temperature</th>\n",
              "      <th>Fuel_Price</th>\n",
              "      <th>MarkDown1</th>\n",
              "      <th>MarkDown2</th>\n",
              "      <th>MarkDown3</th>\n",
              "      <th>MarkDown4</th>\n",
              "      <th>MarkDown5</th>\n",
              "      <th>CPI</th>\n",
              "      <th>Unemployment</th>\n",
              "      <th>Size</th>\n",
              "      <th>Month</th>\n",
              "      <th>Type_A</th>\n",
              "      <th>Type_B</th>\n",
              "      <th>Type_C</th>\n",
              "      <th>Day</th>\n",
              "    </tr>\n",
              "  </thead>\n",
              "  <tbody>\n",
              "    <tr>\n",
              "      <th>0</th>\n",
              "      <td>1</td>\n",
              "      <td>1</td>\n",
              "      <td>24924.50</td>\n",
              "      <td>False</td>\n",
              "      <td>42.31</td>\n",
              "      <td>2.572</td>\n",
              "      <td>0.0</td>\n",
              "      <td>0.0</td>\n",
              "      <td>0.0</td>\n",
              "      <td>0.0</td>\n",
              "      <td>0.0</td>\n",
              "      <td>211.0964</td>\n",
              "      <td>8.106</td>\n",
              "      <td>151315</td>\n",
              "      <td>2</td>\n",
              "      <td>1</td>\n",
              "      <td>0</td>\n",
              "      <td>0</td>\n",
              "      <td>5</td>\n",
              "    </tr>\n",
              "    <tr>\n",
              "      <th>1</th>\n",
              "      <td>1</td>\n",
              "      <td>2</td>\n",
              "      <td>50605.27</td>\n",
              "      <td>False</td>\n",
              "      <td>42.31</td>\n",
              "      <td>2.572</td>\n",
              "      <td>0.0</td>\n",
              "      <td>0.0</td>\n",
              "      <td>0.0</td>\n",
              "      <td>0.0</td>\n",
              "      <td>0.0</td>\n",
              "      <td>211.0964</td>\n",
              "      <td>8.106</td>\n",
              "      <td>151315</td>\n",
              "      <td>2</td>\n",
              "      <td>1</td>\n",
              "      <td>0</td>\n",
              "      <td>0</td>\n",
              "      <td>5</td>\n",
              "    </tr>\n",
              "    <tr>\n",
              "      <th>2</th>\n",
              "      <td>1</td>\n",
              "      <td>3</td>\n",
              "      <td>13740.12</td>\n",
              "      <td>False</td>\n",
              "      <td>42.31</td>\n",
              "      <td>2.572</td>\n",
              "      <td>0.0</td>\n",
              "      <td>0.0</td>\n",
              "      <td>0.0</td>\n",
              "      <td>0.0</td>\n",
              "      <td>0.0</td>\n",
              "      <td>211.0964</td>\n",
              "      <td>8.106</td>\n",
              "      <td>151315</td>\n",
              "      <td>2</td>\n",
              "      <td>1</td>\n",
              "      <td>0</td>\n",
              "      <td>0</td>\n",
              "      <td>5</td>\n",
              "    </tr>\n",
              "    <tr>\n",
              "      <th>3</th>\n",
              "      <td>1</td>\n",
              "      <td>4</td>\n",
              "      <td>39954.04</td>\n",
              "      <td>False</td>\n",
              "      <td>42.31</td>\n",
              "      <td>2.572</td>\n",
              "      <td>0.0</td>\n",
              "      <td>0.0</td>\n",
              "      <td>0.0</td>\n",
              "      <td>0.0</td>\n",
              "      <td>0.0</td>\n",
              "      <td>211.0964</td>\n",
              "      <td>8.106</td>\n",
              "      <td>151315</td>\n",
              "      <td>2</td>\n",
              "      <td>1</td>\n",
              "      <td>0</td>\n",
              "      <td>0</td>\n",
              "      <td>5</td>\n",
              "    </tr>\n",
              "    <tr>\n",
              "      <th>4</th>\n",
              "      <td>1</td>\n",
              "      <td>5</td>\n",
              "      <td>32229.38</td>\n",
              "      <td>False</td>\n",
              "      <td>42.31</td>\n",
              "      <td>2.572</td>\n",
              "      <td>0.0</td>\n",
              "      <td>0.0</td>\n",
              "      <td>0.0</td>\n",
              "      <td>0.0</td>\n",
              "      <td>0.0</td>\n",
              "      <td>211.0964</td>\n",
              "      <td>8.106</td>\n",
              "      <td>151315</td>\n",
              "      <td>2</td>\n",
              "      <td>1</td>\n",
              "      <td>0</td>\n",
              "      <td>0</td>\n",
              "      <td>5</td>\n",
              "    </tr>\n",
              "  </tbody>\n",
              "</table>\n",
              "</div>"
            ],
            "text/plain": [
              "   Store  Dept  Weekly_Sales  IsHoliday  Temperature  Fuel_Price  MarkDown1  \\\n",
              "0      1     1      24924.50      False        42.31       2.572        0.0   \n",
              "1      1     2      50605.27      False        42.31       2.572        0.0   \n",
              "2      1     3      13740.12      False        42.31       2.572        0.0   \n",
              "3      1     4      39954.04      False        42.31       2.572        0.0   \n",
              "4      1     5      32229.38      False        42.31       2.572        0.0   \n",
              "\n",
              "   MarkDown2  MarkDown3  MarkDown4  MarkDown5       CPI  Unemployment    Size  \\\n",
              "0        0.0        0.0        0.0        0.0  211.0964         8.106  151315   \n",
              "1        0.0        0.0        0.0        0.0  211.0964         8.106  151315   \n",
              "2        0.0        0.0        0.0        0.0  211.0964         8.106  151315   \n",
              "3        0.0        0.0        0.0        0.0  211.0964         8.106  151315   \n",
              "4        0.0        0.0        0.0        0.0  211.0964         8.106  151315   \n",
              "\n",
              "   Month  Type_A  Type_B  Type_C  Day  \n",
              "0      2       1       0       0    5  \n",
              "1      2       1       0       0    5  \n",
              "2      2       1       0       0    5  \n",
              "3      2       1       0       0    5  \n",
              "4      2       1       0       0    5  "
            ]
          },
          "metadata": {
            "tags": []
          },
          "execution_count": 37
        }
      ]
    },
    {
      "cell_type": "markdown",
      "metadata": {
        "id": "s6fguUWjD3HK"
      },
      "source": [
        "- `Date` is removed from the **sales_df**."
      ]
    },
    {
      "cell_type": "markdown",
      "metadata": {
        "id": "KVyKSjyiEn2m"
      },
      "source": [
        "<a id = Section704></a>\n",
        "### **7.3 Data Splitting**"
      ]
    },
    {
      "cell_type": "markdown",
      "metadata": {
        "id": "dvD-0p4SEtZA"
      },
      "source": [
        "- Now, we will **split** the dataset into **Train** and **Test** subsets.\n",
        "\n",
        "- We will use **80%** data for **training** and the remaining **20%** data for **testing** our models."
      ]
    },
    {
      "cell_type": "markdown",
      "metadata": {
        "id": "unJi683NIBk9"
      },
      "source": [
        "- First, we will **separate** the **dependent** and **independent** variable from the data *by creating* a **feature matrix** and a **target vector**."
      ]
    },
    {
      "cell_type": "code",
      "metadata": {
        "id": "kugoy5wXFzvY",
        "outputId": "ef6eae11-3c34-4527-a77f-4218a60251f4",
        "colab": {
          "base_uri": "https://localhost:8080/",
          "height": 215
        }
      },
      "source": [
        "# Creating the feature matrix by removing the target variable\n",
        "X = sales_df.drop(['Weekly_Sales'], axis=1)\n",
        "X.head()"
      ],
      "execution_count": null,
      "outputs": [
        {
          "output_type": "execute_result",
          "data": {
            "text/html": [
              "<div>\n",
              "<style scoped>\n",
              "    .dataframe tbody tr th:only-of-type {\n",
              "        vertical-align: middle;\n",
              "    }\n",
              "\n",
              "    .dataframe tbody tr th {\n",
              "        vertical-align: top;\n",
              "    }\n",
              "\n",
              "    .dataframe thead th {\n",
              "        text-align: right;\n",
              "    }\n",
              "</style>\n",
              "<table border=\"1\" class=\"dataframe\">\n",
              "  <thead>\n",
              "    <tr style=\"text-align: right;\">\n",
              "      <th></th>\n",
              "      <th>Store</th>\n",
              "      <th>Dept</th>\n",
              "      <th>IsHoliday</th>\n",
              "      <th>Temperature</th>\n",
              "      <th>Fuel_Price</th>\n",
              "      <th>MarkDown1</th>\n",
              "      <th>MarkDown2</th>\n",
              "      <th>MarkDown3</th>\n",
              "      <th>MarkDown4</th>\n",
              "      <th>MarkDown5</th>\n",
              "      <th>CPI</th>\n",
              "      <th>Unemployment</th>\n",
              "      <th>Size</th>\n",
              "      <th>Month</th>\n",
              "      <th>Type_A</th>\n",
              "      <th>Type_B</th>\n",
              "      <th>Type_C</th>\n",
              "      <th>Day</th>\n",
              "    </tr>\n",
              "  </thead>\n",
              "  <tbody>\n",
              "    <tr>\n",
              "      <th>0</th>\n",
              "      <td>1</td>\n",
              "      <td>1</td>\n",
              "      <td>False</td>\n",
              "      <td>42.31</td>\n",
              "      <td>2.572</td>\n",
              "      <td>0.0</td>\n",
              "      <td>0.0</td>\n",
              "      <td>0.0</td>\n",
              "      <td>0.0</td>\n",
              "      <td>0.0</td>\n",
              "      <td>211.0964</td>\n",
              "      <td>8.106</td>\n",
              "      <td>151315</td>\n",
              "      <td>2</td>\n",
              "      <td>1</td>\n",
              "      <td>0</td>\n",
              "      <td>0</td>\n",
              "      <td>5</td>\n",
              "    </tr>\n",
              "    <tr>\n",
              "      <th>1</th>\n",
              "      <td>1</td>\n",
              "      <td>2</td>\n",
              "      <td>False</td>\n",
              "      <td>42.31</td>\n",
              "      <td>2.572</td>\n",
              "      <td>0.0</td>\n",
              "      <td>0.0</td>\n",
              "      <td>0.0</td>\n",
              "      <td>0.0</td>\n",
              "      <td>0.0</td>\n",
              "      <td>211.0964</td>\n",
              "      <td>8.106</td>\n",
              "      <td>151315</td>\n",
              "      <td>2</td>\n",
              "      <td>1</td>\n",
              "      <td>0</td>\n",
              "      <td>0</td>\n",
              "      <td>5</td>\n",
              "    </tr>\n",
              "    <tr>\n",
              "      <th>2</th>\n",
              "      <td>1</td>\n",
              "      <td>3</td>\n",
              "      <td>False</td>\n",
              "      <td>42.31</td>\n",
              "      <td>2.572</td>\n",
              "      <td>0.0</td>\n",
              "      <td>0.0</td>\n",
              "      <td>0.0</td>\n",
              "      <td>0.0</td>\n",
              "      <td>0.0</td>\n",
              "      <td>211.0964</td>\n",
              "      <td>8.106</td>\n",
              "      <td>151315</td>\n",
              "      <td>2</td>\n",
              "      <td>1</td>\n",
              "      <td>0</td>\n",
              "      <td>0</td>\n",
              "      <td>5</td>\n",
              "    </tr>\n",
              "    <tr>\n",
              "      <th>3</th>\n",
              "      <td>1</td>\n",
              "      <td>4</td>\n",
              "      <td>False</td>\n",
              "      <td>42.31</td>\n",
              "      <td>2.572</td>\n",
              "      <td>0.0</td>\n",
              "      <td>0.0</td>\n",
              "      <td>0.0</td>\n",
              "      <td>0.0</td>\n",
              "      <td>0.0</td>\n",
              "      <td>211.0964</td>\n",
              "      <td>8.106</td>\n",
              "      <td>151315</td>\n",
              "      <td>2</td>\n",
              "      <td>1</td>\n",
              "      <td>0</td>\n",
              "      <td>0</td>\n",
              "      <td>5</td>\n",
              "    </tr>\n",
              "    <tr>\n",
              "      <th>4</th>\n",
              "      <td>1</td>\n",
              "      <td>5</td>\n",
              "      <td>False</td>\n",
              "      <td>42.31</td>\n",
              "      <td>2.572</td>\n",
              "      <td>0.0</td>\n",
              "      <td>0.0</td>\n",
              "      <td>0.0</td>\n",
              "      <td>0.0</td>\n",
              "      <td>0.0</td>\n",
              "      <td>211.0964</td>\n",
              "      <td>8.106</td>\n",
              "      <td>151315</td>\n",
              "      <td>2</td>\n",
              "      <td>1</td>\n",
              "      <td>0</td>\n",
              "      <td>0</td>\n",
              "      <td>5</td>\n",
              "    </tr>\n",
              "  </tbody>\n",
              "</table>\n",
              "</div>"
            ],
            "text/plain": [
              "   Store  Dept  IsHoliday  Temperature  Fuel_Price  MarkDown1  MarkDown2  \\\n",
              "0      1     1      False        42.31       2.572        0.0        0.0   \n",
              "1      1     2      False        42.31       2.572        0.0        0.0   \n",
              "2      1     3      False        42.31       2.572        0.0        0.0   \n",
              "3      1     4      False        42.31       2.572        0.0        0.0   \n",
              "4      1     5      False        42.31       2.572        0.0        0.0   \n",
              "\n",
              "   MarkDown3  MarkDown4  MarkDown5       CPI  Unemployment    Size  Month  \\\n",
              "0        0.0        0.0        0.0  211.0964         8.106  151315      2   \n",
              "1        0.0        0.0        0.0  211.0964         8.106  151315      2   \n",
              "2        0.0        0.0        0.0  211.0964         8.106  151315      2   \n",
              "3        0.0        0.0        0.0  211.0964         8.106  151315      2   \n",
              "4        0.0        0.0        0.0  211.0964         8.106  151315      2   \n",
              "\n",
              "   Type_A  Type_B  Type_C  Day  \n",
              "0       1       0       0    5  \n",
              "1       1       0       0    5  \n",
              "2       1       0       0    5  \n",
              "3       1       0       0    5  \n",
              "4       1       0       0    5  "
            ]
          },
          "metadata": {
            "tags": []
          },
          "execution_count": 38
        }
      ]
    },
    {
      "cell_type": "code",
      "metadata": {
        "id": "7t9Z667DFz5N",
        "outputId": "c77d6d45-c099-41a5-a2d7-1055d0a04dea",
        "colab": {
          "base_uri": "https://localhost:8080/",
          "height": 118
        }
      },
      "source": [
        "# Creating the target vector\n",
        "y = sales_df['Weekly_Sales']\n",
        "y.head()"
      ],
      "execution_count": null,
      "outputs": [
        {
          "output_type": "execute_result",
          "data": {
            "text/plain": [
              "0    24924.50\n",
              "1    50605.27\n",
              "2    13740.12\n",
              "3    39954.04\n",
              "4    32229.38\n",
              "Name: Weekly_Sales, dtype: float64"
            ]
          },
          "metadata": {
            "tags": []
          },
          "execution_count": 39
        }
      ]
    },
    {
      "cell_type": "code",
      "metadata": {
        "id": "uqDSjEtUWwmc"
      },
      "source": [
        "# Using scikit-learn's train_test_split function to split the dataset into train and test sets.\n",
        "# 80% of the data will be in the train set and 20% in the test set, as specified by test_size=0.2\n",
        "X_train, X_test, y_train, y_test = train_test_split(X, y, test_size=0.2, random_state=42)"
      ],
      "execution_count": null,
      "outputs": []
    },
    {
      "cell_type": "code",
      "metadata": {
        "id": "X6PAxhZkWwkl",
        "outputId": "a564b67e-705c-454f-a2c0-20ecde5fe0a1",
        "colab": {
          "base_uri": "https://localhost:8080/",
          "height": 50
        }
      },
      "source": [
        "# Checking the shapes of the training and test sets.\n",
        "print('Training Data Shape:', X_train.shape, y_train.shape)\n",
        "print('Testing Data Shape:', X_test.shape, y_test.shape)"
      ],
      "execution_count": null,
      "outputs": [
        {
          "output_type": "stream",
          "text": [
            "Training Data Shape: (337256, 18) (337256,)\n",
            "Testing Data Shape: (84314, 18) (84314,)\n"
          ],
          "name": "stdout"
        }
      ]
    },
    {
      "cell_type": "markdown",
      "metadata": {
        "id": "ts5svLN2q3Zg"
      },
      "source": [
        "<a id = Section8></a>\n",
        "## **8. Model Development & Evaluation**"
      ]
    },
    {
      "cell_type": "markdown",
      "metadata": {
        "id": "WODsIBl40Mq1"
      },
      "source": [
        "- In this section, we will be **building** our Machine Learning models and fitting them with the training data.\n",
        "\n",
        "- We will be building models using:\n",
        "\n",
        "  - **All** the **features** of the training set.\n",
        "\n",
        "  - The most **important features** of the training set, according to the Random Forest algorithm.\n",
        "\n",
        "- We will use **K-fold Cross Validation** to validate our models and select the best one."
      ]
    },
    {
      "cell_type": "markdown",
      "metadata": {
        "id": "RgkefRY2_5v7"
      },
      "source": [
        "- We are creating a **helper function** `display_scores` that will help us in **displaying** our *K-fold cross validation* **scores**."
      ]
    },
    {
      "cell_type": "code",
      "metadata": {
        "id": "CsCGVU1-_VTZ"
      },
      "source": [
        "# A helper function to display the scores along with the mean and standard deviation of scores.\n",
        "def display_scores(scores):\n",
        "    scores_rmse = np.sqrt(-scores)\n",
        "    print('Scores:', scores_rmse)\n",
        "    print('Mean:', scores_rmse.mean())\n",
        "    print('Standard Deviation:', scores_rmse.std())"
      ],
      "execution_count": null,
      "outputs": []
    },
    {
      "cell_type": "markdown",
      "metadata": {
        "id": "cq9wAnlcz6A2"
      },
      "source": [
        "<a id = Section801></a>\n",
        "### **8.1 Baseline Models**"
      ]
    },
    {
      "cell_type": "markdown",
      "metadata": {
        "id": "wu3JMEjMDWFG"
      },
      "source": [
        "- In the baseline models, we will be using **all** the **features** of the dataset in our models.\n",
        "\n",
        "- We will be performing **5-fold** cross-validation to **validate** our models."
      ]
    },
    {
      "cell_type": "markdown",
      "metadata": {
        "id": "xuL-id_BKV8X"
      },
      "source": [
        "<a id = Section80101></a>\n",
        "#### **8.1.1 Linear Regression Model**"
      ]
    },
    {
      "cell_type": "code",
      "metadata": {
        "id": "wiQt8YzEq70m"
      },
      "source": [
        "base_lr = LinearRegression()"
      ],
      "execution_count": null,
      "outputs": []
    },
    {
      "cell_type": "code",
      "metadata": {
        "id": "hnQ5jdir-LTj"
      },
      "source": [
        "# Performing K-fold Cross-validation for 5 folds.\n",
        "scores = cross_val_score(estimator=base_lr, X=X_train, y=y_train, cv=5, scoring='neg_mean_squared_error')"
      ],
      "execution_count": null,
      "outputs": []
    },
    {
      "cell_type": "code",
      "metadata": {
        "id": "y62fBgTV-yWY",
        "outputId": "4184a7dd-892c-4e99-f491-13c252b2e221",
        "colab": {
          "base_uri": "https://localhost:8080/",
          "height": 84
        }
      },
      "source": [
        "# Displaying the RMSE scores with display_score helper function.\n",
        "display_scores(scores)"
      ],
      "execution_count": null,
      "outputs": [
        {
          "output_type": "stream",
          "text": [
            "Scores: [21979.65938525 21608.2746695  21404.32551374 21509.42372403\n",
            " 21560.27891321]\n",
            "Mean: 21612.392441145716\n",
            "Standard Deviation: 195.71008510269482\n"
          ],
          "name": "stdout"
        }
      ]
    },
    {
      "cell_type": "markdown",
      "metadata": {
        "id": "S3kQwGEoBitX"
      },
      "source": [
        "**Observations:**\n",
        "\n",
        "- After perfoming **5-fold** cross-validation on our Baseline Linear Regression model, we get a mean **RMSE** score of **21612.39**\n",
        "\n",
        "\n",
        "- This is not a good score at all, and we can't use this model in production.\n",
        "\n",
        "- The **standard deviation** of **195** means that our model is performing almost similarly on each fold it was tested on, and is **generalizing** well on unseen data."
      ]
    },
    {
      "cell_type": "markdown",
      "metadata": {
        "id": "es2lVWxAR0RV"
      },
      "source": [
        "<a id = Section80102></a>\n",
        "#### **8.1.2 Decision Tree Model**"
      ]
    },
    {
      "cell_type": "code",
      "metadata": {
        "id": "rh1_GjIrrCvc"
      },
      "source": [
        "base_dt = DecisionTreeRegressor(random_state=0)"
      ],
      "execution_count": null,
      "outputs": []
    },
    {
      "cell_type": "code",
      "metadata": {
        "id": "38a1bWLXCeC_"
      },
      "source": [
        "# Performing K-fold Cross-validation for 5 folds.\n",
        "scores = cross_val_score(estimator=base_dt, X=X_train, y=y_train, cv=5, scoring='neg_mean_squared_error')"
      ],
      "execution_count": null,
      "outputs": []
    },
    {
      "cell_type": "code",
      "metadata": {
        "id": "dSHX9bhKCeA3",
        "outputId": "21c87efe-1f01-4dff-a528-dc6941519462",
        "colab": {
          "base_uri": "https://localhost:8080/",
          "height": 67
        }
      },
      "source": [
        "# Displaying the RMSE scores with display_score helper function.\n",
        "display_scores(scores)"
      ],
      "execution_count": null,
      "outputs": [
        {
          "output_type": "stream",
          "text": [
            "Scores: [5720.92847526 5119.94975833 5488.43259412 4896.45625268 5387.64846724]\n",
            "Mean: 5322.683109524694\n",
            "Standard Deviation: 287.42404417975183\n"
          ],
          "name": "stdout"
        }
      ]
    },
    {
      "cell_type": "markdown",
      "metadata": {
        "id": "f1YEO6dgBmmV"
      },
      "source": [
        "**Observations:**\n",
        "\n",
        "- We get a mean **RMSE** score of **5322.68** for our Baseline Decision Tree model.\n",
        "\n",
        "- This is **4 times lower** than the Linear Regression model.\n",
        "\n",
        "- The Decision Tree model is performing much **better** than the Linear Regression model.\n",
        "\n",
        "- Standard Deviation at **287** is slightly **higher** than the Linear Regression model, meaning that the model is **slightly overfitting** on some folds but it won't affect the performance of the model that much."
      ]
    },
    {
      "cell_type": "markdown",
      "metadata": {
        "id": "c79LEQGvR1jj"
      },
      "source": [
        "<a id = Section80103></a>\n",
        "#### **8.1.3 Random Forest Model**"
      ]
    },
    {
      "cell_type": "code",
      "metadata": {
        "id": "IUEzzgUX4FRL"
      },
      "source": [
        "# Creating a Random Forest model.\n",
        "base_rf = RandomForestRegressor(n_estimators=10, random_state=0, n_jobs=-1)"
      ],
      "execution_count": null,
      "outputs": []
    },
    {
      "cell_type": "code",
      "metadata": {
        "scrolled": true,
        "id": "a5fMt2584FRO",
        "outputId": "de5490d9-a693-4700-e410-aa81f7916ff4",
        "colab": {
          "base_uri": "https://localhost:8080/",
          "height": 50
        }
      },
      "source": [
        "%%time\n",
        "# Performing K-fold Cross-validation for 5 folds.\n",
        "scores = cross_val_score(estimator=base_rf, X=X_train, y=y_train, cv=5, scoring='neg_mean_squared_error')"
      ],
      "execution_count": null,
      "outputs": [
        {
          "output_type": "stream",
          "text": [
            "CPU times: user 5.51 s, sys: 1.25 s, total: 6.76 s\n",
            "Wall time: 1min 53s\n"
          ],
          "name": "stdout"
        }
      ]
    },
    {
      "cell_type": "code",
      "metadata": {
        "id": "5lnVoywvCq4c",
        "outputId": "8be72de7-4c3a-4bcd-aee9-6138478861e1",
        "colab": {
          "base_uri": "https://localhost:8080/",
          "height": 67
        }
      },
      "source": [
        "# Displaying the RMSE scores with display_score helper function.\n",
        "display_scores(scores)"
      ],
      "execution_count": null,
      "outputs": [
        {
          "output_type": "stream",
          "text": [
            "Scores: [4319.99875092 4066.30575485 4051.58900922 3742.37212307 3806.37702732]\n",
            "Mean: 3997.3285330754197\n",
            "Standard Deviation: 206.5349241335799\n"
          ],
          "name": "stdout"
        }
      ]
    },
    {
      "cell_type": "markdown",
      "metadata": {
        "id": "6jgnykURBoBP"
      },
      "source": [
        "**Observations:**\n",
        "\n",
        "- The mean **RMSE** score for the Baseline Random Forest Model is **3997.32**\n",
        "\n",
        "- This is significantly **lower** than the Decision Tree model.\n",
        "\n",
        "- It took **1 minute and 53 seconds** to perform 5-fold cross-validation on our Random Forest model having 10 trees.\n",
        "\n",
        "- Random Forest is the best performing baseline model with the lowest RMSE score.\n",
        "\n",
        "- Also, the standard deviation at **206** is **lower** than the Decision Tree model and almost equal to the Linear Regression model, meaning it is **generalizing** well on unseen data."
      ]
    },
    {
      "cell_type": "markdown",
      "metadata": {
        "id": "pwhA0qot4FRT"
      },
      "source": [
        "#### **Checking Feature Importances**"
      ]
    },
    {
      "cell_type": "markdown",
      "metadata": {
        "id": "wfsDMYnuL06s"
      },
      "source": [
        "- Now, we will check the **feature importance** of each feature using the **Random Forest** model."
      ]
    },
    {
      "cell_type": "code",
      "metadata": {
        "id": "Ocr6HW0IC9ad",
        "outputId": "0c5d7212-91f5-4e91-9174-7f07ad9450e3",
        "colab": {
          "base_uri": "https://localhost:8080/",
          "height": 134
        }
      },
      "source": [
        "# Fitting the baseline Random Forest model on the entire train set to obtain the feature importances of each feature. \n",
        "base_rf.fit(X_train, y_train)"
      ],
      "execution_count": null,
      "outputs": [
        {
          "output_type": "execute_result",
          "data": {
            "text/plain": [
              "RandomForestRegressor(bootstrap=True, ccp_alpha=0.0, criterion='mse',\n",
              "                      max_depth=None, max_features='auto', max_leaf_nodes=None,\n",
              "                      max_samples=None, min_impurity_decrease=0.0,\n",
              "                      min_impurity_split=None, min_samples_leaf=1,\n",
              "                      min_samples_split=2, min_weight_fraction_leaf=0.0,\n",
              "                      n_estimators=10, n_jobs=-1, oob_score=False,\n",
              "                      random_state=0, verbose=0, warm_start=False)"
            ]
          },
          "metadata": {
            "tags": []
          },
          "execution_count": 62
        }
      ]
    },
    {
      "cell_type": "code",
      "metadata": {
        "id": "f617ka4N4FRZ",
        "outputId": "ed6e04b0-863b-434a-b9b9-5f9955b79eec",
        "colab": {
          "base_uri": "https://localhost:8080/",
          "height": 319
        }
      },
      "source": [
        "# Checking the feature importances of various features.\n",
        "# Sorting the importances by descending order (lowest importance at the bottom).\n",
        "for score, name in sorted(zip(base_rf.feature_importances_, X_train.columns), reverse=True):\n",
        "    print('Feature importance of', name, ':', score*100, '%')"
      ],
      "execution_count": null,
      "outputs": [
        {
          "output_type": "stream",
          "text": [
            "Feature importance of Dept : 63.35810299763713 %\n",
            "Feature importance of Size : 18.569980351886365 %\n",
            "Feature importance of Store : 5.573725706913679 %\n",
            "Feature importance of CPI : 2.618559255198255 %\n",
            "Feature importance of Month : 2.559015020219087 %\n",
            "Feature importance of Day : 1.5469516159062249 %\n",
            "Feature importance of MarkDown3 : 1.1309550707319727 %\n",
            "Feature importance of Temperature : 1.0773925158979962 %\n",
            "Feature importance of Unemployment : 1.06655871240621 %\n",
            "Feature importance of Type_B : 1.0414267506149872 %\n",
            "Feature importance of Fuel_Price : 0.4511742700747896 %\n",
            "Feature importance of Type_A : 0.3384028827577717 %\n",
            "Feature importance of IsHoliday : 0.1998231830044261 %\n",
            "Feature importance of MarkDown4 : 0.12507571080904759 %\n",
            "Feature importance of MarkDown2 : 0.10784629584368607 %\n",
            "Feature importance of MarkDown5 : 0.10035897765823766 %\n",
            "Feature importance of MarkDown1 : 0.09489185759088627 %\n",
            "Feature importance of Type_C : 0.03975882484923432 %\n"
          ],
          "name": "stdout"
        }
      ]
    },
    {
      "cell_type": "markdown",
      "metadata": {
        "id": "f_qIxPGCMB_8"
      },
      "source": [
        "- The feature importances are organized in a **descending** order, meaning the **most important** features are at the **top** and least important at the bottom.\n",
        "\n",
        "- Let's **plot** the feature importances on a bar chart for a better visual look."
      ]
    },
    {
      "cell_type": "code",
      "metadata": {
        "id": "A4T138lNKIVv",
        "outputId": "47685059-c6ec-48b2-da5f-1c72e09e5709",
        "colab": {
          "base_uri": "https://localhost:8080/",
          "height": 551
        }
      },
      "source": [
        "# Plotting the Feature Importance of each feature.\n",
        "plt.figure(figsize=(12, 7))\n",
        "plt.bar(X_train.columns, base_rf.feature_importances_*100, color='green')\n",
        "plt.xlabel('Features', fontsize=14)\n",
        "plt.ylabel('Importance', fontsize=14)\n",
        "plt.xticks(rotation=90)\n",
        "plt.title('Feature Importance of each Feature', fontsize=16)"
      ],
      "execution_count": null,
      "outputs": [
        {
          "output_type": "execute_result",
          "data": {
            "text/plain": [
              "Text(0.5, 1.0, 'Feature Importance of each Feature')"
            ]
          },
          "metadata": {
            "tags": []
          },
          "execution_count": 79
        },
        {
          "output_type": "display_data",
          "data": {
            "image/png": "[encoded data removed]",
            "text/plain": [
              "<Figure size 864x504 with 1 Axes>"
            ]
          },
          "metadata": {
            "tags": [],
            "needs_background": "light"
          }
        }
      ]
    },
    {
      "cell_type": "markdown",
      "metadata": {
        "id": "wOlRZC894FRc"
      },
      "source": [
        "- The *feature importance* of columns tells us which **features** are **most important** to the model while making predictions.\n",
        "\n",
        "\n",
        "- Here we can see that the `Dept`column has the highest feature importance with **63.35 %**, followed by `Size` column having **18.56 %** importance.\n",
        "\n",
        "- **Top 6** most **important** features are: `Dept`, `Size`, `Store`, `CPI`, `Month`, and `Day`.\n",
        "\n",
        "- We will use only these features in our Essential Feature Models."
      ]
    },
    {
      "cell_type": "markdown",
      "metadata": {
        "id": "5HprtGxeGaPg"
      },
      "source": [
        "<a id = Section802></a>\n",
        "### **8.2 Essential Feature Models**"
      ]
    },
    {
      "cell_type": "markdown",
      "metadata": {
        "id": "sfST3GsQGaPh"
      },
      "source": [
        "- In the essential feature models, we will be using only the **most important features** of the dataset in our models.\n",
        "\n",
        "- The features are selected on the basis of the **feature importance** obtained from the Random Forest model.\n",
        "\n",
        "- We will be performing **5-fold** cross-validation to **validate** our models."
      ]
    },
    {
      "cell_type": "code",
      "metadata": {
        "id": "KxbKPayiM-Fk",
        "outputId": "8f182cb1-7dfd-4c5b-8044-a2ddee8f1f02",
        "colab": {
          "base_uri": "https://localhost:8080/",
          "height": 195
        }
      },
      "source": [
        "X_train_essential = X_train[['Dept', 'Size', 'Store', 'CPI', 'Month', 'Day']]\n",
        "X_train_essential.head()"
      ],
      "execution_count": null,
      "outputs": [
        {
          "output_type": "execute_result",
          "data": {
            "text/html": [
              "<div>\n",
              "<style scoped>\n",
              "    .dataframe tbody tr th:only-of-type {\n",
              "        vertical-align: middle;\n",
              "    }\n",
              "\n",
              "    .dataframe tbody tr th {\n",
              "        vertical-align: top;\n",
              "    }\n",
              "\n",
              "    .dataframe thead th {\n",
              "        text-align: right;\n",
              "    }\n",
              "</style>\n",
              "<table border=\"1\" class=\"dataframe\">\n",
              "  <thead>\n",
              "    <tr style=\"text-align: right;\">\n",
              "      <th></th>\n",
              "      <th>Dept</th>\n",
              "      <th>Size</th>\n",
              "      <th>Store</th>\n",
              "      <th>CPI</th>\n",
              "      <th>Month</th>\n",
              "      <th>Day</th>\n",
              "    </tr>\n",
              "  </thead>\n",
              "  <tbody>\n",
              "    <tr>\n",
              "      <th>138466</th>\n",
              "      <td>96</td>\n",
              "      <td>123737</td>\n",
              "      <td>15</td>\n",
              "      <td>131.7350</td>\n",
              "      <td>3</td>\n",
              "      <td>5</td>\n",
              "    </tr>\n",
              "    <tr>\n",
              "      <th>289214</th>\n",
              "      <td>10</td>\n",
              "      <td>42988</td>\n",
              "      <td>30</td>\n",
              "      <td>212.9033</td>\n",
              "      <td>2</td>\n",
              "      <td>18</td>\n",
              "    </tr>\n",
              "    <tr>\n",
              "      <th>52351</th>\n",
              "      <td>10</td>\n",
              "      <td>202505</td>\n",
              "      <td>6</td>\n",
              "      <td>213.3400</td>\n",
              "      <td>1</td>\n",
              "      <td>21</td>\n",
              "    </tr>\n",
              "    <tr>\n",
              "      <th>203504</th>\n",
              "      <td>27</td>\n",
              "      <td>140167</td>\n",
              "      <td>21</td>\n",
              "      <td>217.1650</td>\n",
              "      <td>10</td>\n",
              "      <td>21</td>\n",
              "    </tr>\n",
              "    <tr>\n",
              "      <th>233606</th>\n",
              "      <td>25</td>\n",
              "      <td>203819</td>\n",
              "      <td>24</td>\n",
              "      <td>136.4788</td>\n",
              "      <td>11</td>\n",
              "      <td>25</td>\n",
              "    </tr>\n",
              "  </tbody>\n",
              "</table>\n",
              "</div>"
            ],
            "text/plain": [
              "        Dept    Size  Store       CPI  Month  Day\n",
              "138466    96  123737     15  131.7350      3    5\n",
              "289214    10   42988     30  212.9033      2   18\n",
              "52351     10  202505      6  213.3400      1   21\n",
              "203504    27  140167     21  217.1650     10   21\n",
              "233606    25  203819     24  136.4788     11   25"
            ]
          },
          "metadata": {
            "tags": []
          },
          "execution_count": 99
        }
      ]
    },
    {
      "cell_type": "markdown",
      "metadata": {
        "id": "YxnEMgsQGaPi"
      },
      "source": [
        "<a id = Section80201></a>\n",
        "#### **8.2.1 Linear Regression Model**"
      ]
    },
    {
      "cell_type": "code",
      "metadata": {
        "id": "AteGEzN9GaPi"
      },
      "source": [
        "essential_lr = LinearRegression()"
      ],
      "execution_count": null,
      "outputs": []
    },
    {
      "cell_type": "code",
      "metadata": {
        "id": "iYvk2VbtGaPl"
      },
      "source": [
        "# Performing K-fold Cross-validation for 5 folds.\n",
        "scores = cross_val_score(estimator=essential_lr, X=X_train_essential, y=y_train, cv=5, scoring='neg_mean_squared_error')"
      ],
      "execution_count": null,
      "outputs": []
    },
    {
      "cell_type": "code",
      "metadata": {
        "id": "y3rnfEYVGaPn",
        "outputId": "fd421baa-66f4-49cb-d100-d724da382c49",
        "colab": {
          "base_uri": "https://localhost:8080/",
          "height": 84
        }
      },
      "source": [
        "# Displaying the RMSE scores with display_score helper function.\n",
        "display_scores(scores)"
      ],
      "execution_count": null,
      "outputs": [
        {
          "output_type": "stream",
          "text": [
            "Scores: [22040.66751093 21675.93363968 21460.984622   21564.3695183\n",
            " 21607.5399267 ]\n",
            "Mean: 21669.8990435237\n",
            "Standard Deviation: 198.07879666498823\n"
          ],
          "name": "stdout"
        }
      ]
    },
    {
      "cell_type": "markdown",
      "metadata": {
        "id": "fCQL_jmRGaPq"
      },
      "source": [
        "**Observations:**\n",
        "\n",
        "- After perfoming **5-fold** cross-validation on our Essential Feature Linear Regression model, we get a mean **RMSE** score of **21669.89**\n",
        "\n",
        "- The RMSE value has increased a little because we are only using 6 features, but the change is very small.\n",
        "\n",
        "- Still the **error** is very **large**, and hence this model can't be used to make predictions on the test set.\n"
      ]
    },
    {
      "cell_type": "markdown",
      "metadata": {
        "id": "__404n3mGaPr"
      },
      "source": [
        "<a id = Section80202></a>\n",
        "#### **8.2.2 Decision Tree Model**"
      ]
    },
    {
      "cell_type": "code",
      "metadata": {
        "id": "RES5u60yGaPr"
      },
      "source": [
        "essential_dt = DecisionTreeRegressor(random_state=0)"
      ],
      "execution_count": null,
      "outputs": []
    },
    {
      "cell_type": "code",
      "metadata": {
        "id": "l2J_r3_LGaPu"
      },
      "source": [
        "# Performing K-fold Cross-validation for 5 folds.\n",
        "scores = cross_val_score(estimator=essential_dt, X=X_train_essential, y=y_train, cv=5, scoring='neg_mean_squared_error')"
      ],
      "execution_count": null,
      "outputs": []
    },
    {
      "cell_type": "code",
      "metadata": {
        "id": "bzj2jyaeGaPx",
        "outputId": "5db128a3-a52f-42cc-b105-57c15dfb6512",
        "colab": {
          "base_uri": "https://localhost:8080/",
          "height": 67
        }
      },
      "source": [
        "# Displaying the RMSE scores with display_score helper function.\n",
        "display_scores(scores)"
      ],
      "execution_count": null,
      "outputs": [
        {
          "output_type": "stream",
          "text": [
            "Scores: [4610.05869919 4651.93730874 4900.27942032 4498.63060733 4564.03025722]\n",
            "Mean: 4644.9872585609555\n",
            "Standard Deviation: 137.4166661941294\n"
          ],
          "name": "stdout"
        }
      ]
    },
    {
      "cell_type": "markdown",
      "metadata": {
        "id": "rvGZda3SGaP0"
      },
      "source": [
        "**Observations:**\n",
        "\n",
        "- We get a mean **RMSE** score of **4644.98** for our Essential Feature Decision Tree model.\n",
        "\n",
        "- The RMSE has **decreased** by a lot even though we are only using 6 features.\n",
        "\n",
        "- The standard deviation at **137** has also decreased meaning the model is **generalizing** well on unseen data.\n"
      ]
    },
    {
      "cell_type": "markdown",
      "metadata": {
        "id": "J479-VoEGaP0"
      },
      "source": [
        "<a id = Section80203></a>\n",
        "#### **8.2.3 Random Forest Model**"
      ]
    },
    {
      "cell_type": "code",
      "metadata": {
        "id": "fsVjynSGGaP1"
      },
      "source": [
        "# Creating a Random Forest model.\n",
        "essential_rf = RandomForestRegressor(n_estimators=10, random_state=0, n_jobs=-1)"
      ],
      "execution_count": null,
      "outputs": []
    },
    {
      "cell_type": "code",
      "metadata": {
        "scrolled": true,
        "id": "NLFh-ODFGaP3",
        "outputId": "f73bb3e8-7365-4647-c9d3-88c141dee301",
        "colab": {
          "base_uri": "https://localhost:8080/",
          "height": 50
        }
      },
      "source": [
        "%%time\n",
        "# Performing K-fold Cross-validation for 5 folds.\n",
        "scores = cross_val_score(estimator=essential_rf, X=X_train_essential, y=y_train, cv=5, scoring='neg_mean_squared_error')"
      ],
      "execution_count": null,
      "outputs": [
        {
          "output_type": "stream",
          "text": [
            "CPU times: user 5.13 s, sys: 1.05 s, total: 6.18 s\n",
            "Wall time: 52.6 s\n"
          ],
          "name": "stdout"
        }
      ]
    },
    {
      "cell_type": "code",
      "metadata": {
        "id": "-RFbmm1RGaP6",
        "outputId": "e7f51ad9-8609-4079-95e0-e732a19199fb",
        "colab": {
          "base_uri": "https://localhost:8080/",
          "height": 67
        }
      },
      "source": [
        "# Displaying the RMSE scores with display_score helper function.\n",
        "display_scores(scores)"
      ],
      "execution_count": null,
      "outputs": [
        {
          "output_type": "stream",
          "text": [
            "Scores: [3863.71427227 3765.26075202 3876.94027072 3458.74011555 3466.58863237]\n",
            "Mean: 3686.2488085858436\n",
            "Standard Deviation: 186.60702567666544\n"
          ],
          "name": "stdout"
        }
      ]
    },
    {
      "cell_type": "markdown",
      "metadata": {
        "id": "hlLIzZLYGaP8"
      },
      "source": [
        "**Observations:**\n",
        "\n",
        "- The mean **RMSE** score for the Essential Feature Random Forest Model is **3686.24**\n",
        "\n",
        "- Our model has improved even though we are using only a **subset** (i. e. 6 features) of the features from the entire dataset.\n",
        "\n",
        "- It took **53 seconds** to perform 5-fold cross-validation on our Random Forest model having 10 trees.\n",
        "\n",
        "- The **training time** has **reduced** significantly and the **performance** has **improved**.\n",
        "\n",
        "- The RMSE is still significantly **lower** than the Decision Tree model."
      ]
    },
    {
      "cell_type": "markdown",
      "metadata": {
        "id": "eHQTdU9qGHvL"
      },
      "source": [
        "#### **Model Comparision**\n",
        "\n",
        "**Baseline Models**\n",
        "\n",
        "| Model | RMSE Score |\n",
        "| :--: | :--: |\n",
        "| **Linear Regression** | **21612.39** |\n",
        "| **Decision Tree** | **5322.68** |\n",
        "| **Random Forest** | **3997.32** |\n",
        "\n",
        "<br>\n",
        "\n",
        "**Essential Feature Models**\n",
        "\n",
        "| Model | RMSE Score |\n",
        "| :--: | :--: |\n",
        "| **Linear Regression** | **21669.89** |\n",
        "| **Decision Tree** | **4644.98** |\n",
        "| **Random Forest** | **3686.24** |"
      ]
    },
    {
      "cell_type": "markdown",
      "metadata": {
        "id": "QmLTtX9TG9w4"
      },
      "source": [
        "**Observations:**\n",
        "\n",
        "- Essential Feature Random Forest is the **best performing model** with the **lowest RMSE** score.\n",
        "\n",
        "- It **outperforms** all the baseline and essential feature models."
      ]
    },
    {
      "cell_type": "markdown",
      "metadata": {
        "id": "D7lY1C9hIP51"
      },
      "source": [
        "<a id = Section803></a>\n",
        "### **8.3 Hyperparameter Tuning of Model**"
      ]
    },
    {
      "cell_type": "markdown",
      "metadata": {
        "id": "kyWKMWypjIpt"
      },
      "source": [
        "**Creating the Parameter Grid**\n",
        "\n",
        "- The parameter grid will contain all the **values** for each hyperparameter to be used while **searching** for the best hyperparameter combinations."
      ]
    },
    {
      "cell_type": "code",
      "metadata": {
        "id": "r0QZekBprCz9"
      },
      "source": [
        "param_grid = [{'n_estimators': [10, 20, 30], 'max_depth': [None, 2, 3, 5], 'max_features': ['auto', 2, 4]}]"
      ],
      "execution_count": null,
      "outputs": []
    },
    {
      "cell_type": "code",
      "metadata": {
        "id": "ZhxRbd-OGWxd"
      },
      "source": [
        "temp_rf = RandomForestRegressor(random_state=0, n_jobs=-1)"
      ],
      "execution_count": null,
      "outputs": []
    },
    {
      "cell_type": "markdown",
      "metadata": {
        "id": "_mXzLQyIjwJB"
      },
      "source": [
        "**Creating Grid Search**\n",
        "\n",
        "- We will input the **model**, **parameter grid**, **scoring method** and **number of folds** to use for cross-validation into the grid search object.\n",
        "\n",
        "- We are using **5-fold** cross-validation here."
      ]
    },
    {
      "cell_type": "code",
      "metadata": {
        "id": "jDx7KOQtfk1b"
      },
      "source": [
        "grid_search = GridSearchCV(estimator=temp_rf, param_grid=param_grid, scoring='neg_mean_squared_error', cv=5, n_jobs=-1)"
      ],
      "execution_count": null,
      "outputs": []
    },
    {
      "cell_type": "markdown",
      "metadata": {
        "id": "J2FrqRWCkIrd"
      },
      "source": [
        "**Performing Grid Search**\n",
        "\n",
        "- Here, we will supply the **dataset** to be used in grid search and **initialize** our search."
      ]
    },
    {
      "cell_type": "code",
      "metadata": {
        "id": "qn-QgZGufkt5",
        "outputId": "a9b649b0-c0e7-4d8e-c675-9cfc9a3abdaf",
        "colab": {
          "base_uri": "https://localhost:8080/",
          "height": 386
        }
      },
      "source": [
        "%%time\n",
        "grid_search.fit(X_train_essential, y_train)"
      ],
      "execution_count": null,
      "outputs": [
        {
          "output_type": "stream",
          "text": [
            "CPU times: user 1min 6s, sys: 3.11 s, total: 1min 9s\n",
            "Wall time: 16min 27s\n"
          ],
          "name": "stdout"
        },
        {
          "output_type": "execute_result",
          "data": {
            "text/plain": [
              "GridSearchCV(cv=5, error_score=nan,\n",
              "             estimator=RandomForestRegressor(bootstrap=True, ccp_alpha=0.0,\n",
              "                                             criterion='mse', max_depth=None,\n",
              "                                             max_features='auto',\n",
              "                                             max_leaf_nodes=None,\n",
              "                                             max_samples=None,\n",
              "                                             min_impurity_decrease=0.0,\n",
              "                                             min_impurity_split=None,\n",
              "                                             min_samples_leaf=1,\n",
              "                                             min_samples_split=2,\n",
              "                                             min_weight_fraction_leaf=0.0,\n",
              "                                             n_estimators=100, n_jobs=-1,\n",
              "                                             oob_score=False, random_state=0,\n",
              "                                             verbose=0, warm_start=False),\n",
              "             iid='deprecated', n_jobs=-1,\n",
              "             param_grid=[{'max_depth': [None, 2, 3, 5],\n",
              "                          'max_features': ['auto', 2, 4],\n",
              "                          'n_estimators': [10, 20, 30]}],\n",
              "             pre_dispatch='2*n_jobs', refit=True, return_train_score=False,\n",
              "             scoring='neg_mean_squared_error', verbose=0)"
            ]
          },
          "metadata": {
            "tags": []
          },
          "execution_count": 125
        }
      ]
    },
    {
      "cell_type": "markdown",
      "metadata": {
        "id": "Q8FE8f8zpNql"
      },
      "source": [
        "- Now, we will calculate the **best RMSE** score found by Grid Search."
      ]
    },
    {
      "cell_type": "code",
      "metadata": {
        "id": "mpsKX5TkGW0m",
        "outputId": "abf42331-27d7-4682-c77b-4b270b6dd0a0",
        "colab": {
          "base_uri": "https://localhost:8080/",
          "height": 34
        }
      },
      "source": [
        "# Calculating the best RMSE score found by Grid Search \n",
        "np.sqrt(-grid_search.best_score_)"
      ],
      "execution_count": null,
      "outputs": [
        {
          "output_type": "execute_result",
          "data": {
            "text/plain": [
              "3562.015451656953"
            ]
          },
          "metadata": {
            "tags": []
          },
          "execution_count": 126
        }
      ]
    },
    {
      "cell_type": "markdown",
      "metadata": {
        "id": "k8mv-DP-pt7V"
      },
      "source": [
        "- We get an RMSE score of **3562.01** which is **lower** than our Essential Feature Random Forest model.\n",
        "\n",
        "- This means that we have **improved** our **model performance** after tuning the hyperparameters."
      ]
    },
    {
      "cell_type": "markdown",
      "metadata": {
        "id": "fL4e0IoSpZVC"
      },
      "source": [
        "- Let's find out the **hyperparameter values** which provide us the best RMSE score."
      ]
    },
    {
      "cell_type": "code",
      "metadata": {
        "id": "gj_Mh6kWfk9J",
        "outputId": "bc23ecfd-7bc1-4891-feff-cc08ab67a952",
        "colab": {
          "base_uri": "https://localhost:8080/",
          "height": 34
        }
      },
      "source": [
        "# The hyperparameter values which provide us the best RMSE score\n",
        "grid_search.best_params_"
      ],
      "execution_count": null,
      "outputs": [
        {
          "output_type": "execute_result",
          "data": {
            "text/plain": [
              "{'max_depth': None, 'max_features': 'auto', 'n_estimators': 30}"
            ]
          },
          "metadata": {
            "tags": []
          },
          "execution_count": 127
        }
      ]
    },
    {
      "cell_type": "markdown",
      "metadata": {
        "id": "zC-fBOuz--Wk"
      },
      "source": [
        "- We're gonna **use** these hyperparameter **values** in our final model."
      ]
    },
    {
      "cell_type": "markdown",
      "metadata": {
        "id": "Op1fvq46JQVe"
      },
      "source": [
        "<a id = Section804></a>\n",
        "### **8.4 Final Model**"
      ]
    },
    {
      "cell_type": "markdown",
      "metadata": {
        "id": "lnuJ0Vs-qF81"
      },
      "source": [
        "- We found out the **best hyperparameter combinations** for our Random Forest model.\n",
        "\n",
        "- Now, we will use the model with those hyperparameters as our **final model**.\n",
        "\n",
        "- Using this final model, we will make **predictions** on our test set."
      ]
    },
    {
      "cell_type": "markdown",
      "metadata": {
        "id": "Rwz9q69x5qHV"
      },
      "source": [
        "**Creating the Final Model**"
      ]
    },
    {
      "cell_type": "markdown",
      "metadata": {
        "id": "7jHaobNg5xxC"
      },
      "source": [
        "- We will create the final random forest model using the **grid_search**'s `best_estimator_` attribute."
      ]
    },
    {
      "cell_type": "code",
      "metadata": {
        "id": "d9zUmBxdGWvU"
      },
      "source": [
        "# Creating the final random forest model from the grid search's best estimator.\n",
        "final_rf = grid_search.best_estimator_"
      ],
      "execution_count": null,
      "outputs": []
    },
    {
      "cell_type": "markdown",
      "metadata": {
        "id": "cKNfaUEI583w"
      },
      "source": [
        "**Fitting the Final Model**"
      ]
    },
    {
      "cell_type": "code",
      "metadata": {
        "id": "jzk88wMdiYc6",
        "outputId": "8b10c29a-7492-43cd-8406-f13d02a50946",
        "colab": {
          "base_uri": "https://localhost:8080/",
          "height": 134
        }
      },
      "source": [
        "# Fitting the final model with training set\n",
        "final_rf.fit(X_train_essential, y_train)"
      ],
      "execution_count": null,
      "outputs": [
        {
          "output_type": "execute_result",
          "data": {
            "text/plain": [
              "RandomForestRegressor(bootstrap=True, ccp_alpha=0.0, criterion='mse',\n",
              "                      max_depth=None, max_features='auto', max_leaf_nodes=None,\n",
              "                      max_samples=None, min_impurity_decrease=0.0,\n",
              "                      min_impurity_split=None, min_samples_leaf=1,\n",
              "                      min_samples_split=2, min_weight_fraction_leaf=0.0,\n",
              "                      n_estimators=30, n_jobs=-1, oob_score=False,\n",
              "                      random_state=0, verbose=0, warm_start=False)"
            ]
          },
          "metadata": {
            "tags": []
          },
          "execution_count": 129
        }
      ]
    },
    {
      "cell_type": "markdown",
      "metadata": {
        "id": "2MmxnyFa6xun"
      },
      "source": [
        "- After fitting the final model with the training data, we are ready to make **predictions** on the test set. "
      ]
    },
    {
      "cell_type": "markdown",
      "metadata": {
        "id": "YmdWivo966IM"
      },
      "source": [
        "**Removing Non-Essential Features from the Test Set**"
      ]
    },
    {
      "cell_type": "markdown",
      "metadata": {
        "id": "gQ8yb49c7G0e"
      },
      "source": [
        "- We trained our model on only the most important features of the dataset.\n",
        "\n",
        "- So, we need to **remove** the **non-important features** from our test set as well.\n",
        "\n",
        "- If we don't remove the non-essential features our model will give an **error** while making predictions due to the **difference in shapes** of training and testing sets."
      ]
    },
    {
      "cell_type": "code",
      "metadata": {
        "id": "JafjWOqb6OEV",
        "outputId": "0b7d17e1-b28e-4f79-b2d1-117a93adadea",
        "colab": {
          "base_uri": "https://localhost:8080/",
          "height": 195
        }
      },
      "source": [
        "# Creating the test set with only the essential features\n",
        "X_test_essential = X_test[['Dept', 'Size', 'Store', 'CPI', 'Month', 'Day']]\n",
        "X_test_essential.head()"
      ],
      "execution_count": null,
      "outputs": [
        {
          "output_type": "execute_result",
          "data": {
            "text/html": [
              "<div>\n",
              "<style scoped>\n",
              "    .dataframe tbody tr th:only-of-type {\n",
              "        vertical-align: middle;\n",
              "    }\n",
              "\n",
              "    .dataframe tbody tr th {\n",
              "        vertical-align: top;\n",
              "    }\n",
              "\n",
              "    .dataframe thead th {\n",
              "        text-align: right;\n",
              "    }\n",
              "</style>\n",
              "<table border=\"1\" class=\"dataframe\">\n",
              "  <thead>\n",
              "    <tr style=\"text-align: right;\">\n",
              "      <th></th>\n",
              "      <th>Dept</th>\n",
              "      <th>Size</th>\n",
              "      <th>Store</th>\n",
              "      <th>CPI</th>\n",
              "      <th>Month</th>\n",
              "      <th>Day</th>\n",
              "    </tr>\n",
              "  </thead>\n",
              "  <tbody>\n",
              "    <tr>\n",
              "      <th>272342</th>\n",
              "      <td>97</td>\n",
              "      <td>206302</td>\n",
              "      <td>28</td>\n",
              "      <td>129.1338</td>\n",
              "      <td>7</td>\n",
              "      <td>15</td>\n",
              "    </tr>\n",
              "    <tr>\n",
              "      <th>176581</th>\n",
              "      <td>20</td>\n",
              "      <td>120653</td>\n",
              "      <td>18</td>\n",
              "      <td>138.3772</td>\n",
              "      <td>8</td>\n",
              "      <td>31</td>\n",
              "    </tr>\n",
              "    <tr>\n",
              "      <th>354212</th>\n",
              "      <td>98</td>\n",
              "      <td>39690</td>\n",
              "      <td>38</td>\n",
              "      <td>126.6019</td>\n",
              "      <td>4</td>\n",
              "      <td>9</td>\n",
              "    </tr>\n",
              "    <tr>\n",
              "      <th>281444</th>\n",
              "      <td>90</td>\n",
              "      <td>93638</td>\n",
              "      <td>29</td>\n",
              "      <td>134.5144</td>\n",
              "      <td>5</td>\n",
              "      <td>6</td>\n",
              "    </tr>\n",
              "    <tr>\n",
              "      <th>124208</th>\n",
              "      <td>4</td>\n",
              "      <td>219622</td>\n",
              "      <td>13</td>\n",
              "      <td>129.7937</td>\n",
              "      <td>10</td>\n",
              "      <td>28</td>\n",
              "    </tr>\n",
              "  </tbody>\n",
              "</table>\n",
              "</div>"
            ],
            "text/plain": [
              "        Dept    Size  Store       CPI  Month  Day\n",
              "272342    97  206302     28  129.1338      7   15\n",
              "176581    20  120653     18  138.3772      8   31\n",
              "354212    98   39690     38  126.6019      4    9\n",
              "281444    90   93638     29  134.5144      5    6\n",
              "124208     4  219622     13  129.7937     10   28"
            ]
          },
          "metadata": {
            "tags": []
          },
          "execution_count": 130
        }
      ]
    },
    {
      "cell_type": "markdown",
      "metadata": {
        "id": "m2HF2SvI7lNU"
      },
      "source": [
        "**Making Predictions**\n",
        "\n",
        "- Now, we will make **predictions** on both our training and testing sets."
      ]
    },
    {
      "cell_type": "code",
      "metadata": {
        "id": "KXy-Sn_KiYgj"
      },
      "source": [
        "# Making predictions on the train set\n",
        "y_train_pred = final_rf.predict(X_train_essential)"
      ],
      "execution_count": null,
      "outputs": []
    },
    {
      "cell_type": "code",
      "metadata": {
        "id": "oPS5M50QiYaU"
      },
      "source": [
        "# Making predictions on the test set\n",
        "y_test_pred = final_rf.predict(X_test_essential)"
      ],
      "execution_count": null,
      "outputs": []
    },
    {
      "cell_type": "code",
      "metadata": {
        "id": "5IrpQCci8GBt",
        "outputId": "ad4ab4f5-ec15-4c97-ead0-594c87cc0b74",
        "colab": {
          "base_uri": "https://localhost:8080/",
          "height": 195
        }
      },
      "source": [
        "pd.DataFrame({'Actual Test Set Values': y_test[0:5].values, 'Predicted Test Set Values': y_test_pred[0:5]})"
      ],
      "execution_count": null,
      "outputs": [
        {
          "output_type": "execute_result",
          "data": {
            "text/html": [
              "<div>\n",
              "<style scoped>\n",
              "    .dataframe tbody tr th:only-of-type {\n",
              "        vertical-align: middle;\n",
              "    }\n",
              "\n",
              "    .dataframe tbody tr th {\n",
              "        vertical-align: top;\n",
              "    }\n",
              "\n",
              "    .dataframe thead th {\n",
              "        text-align: right;\n",
              "    }\n",
              "</style>\n",
              "<table border=\"1\" class=\"dataframe\">\n",
              "  <thead>\n",
              "    <tr style=\"text-align: right;\">\n",
              "      <th></th>\n",
              "      <th>Actual Test Set Values</th>\n",
              "      <th>Predicted Test Set Values</th>\n",
              "    </tr>\n",
              "  </thead>\n",
              "  <tbody>\n",
              "    <tr>\n",
              "      <th>0</th>\n",
              "      <td>21577.44</td>\n",
              "      <td>21197.2510</td>\n",
              "    </tr>\n",
              "    <tr>\n",
              "      <th>1</th>\n",
              "      <td>8370.28</td>\n",
              "      <td>7449.3907</td>\n",
              "    </tr>\n",
              "    <tr>\n",
              "      <th>2</th>\n",
              "      <td>4985.05</td>\n",
              "      <td>4698.7330</td>\n",
              "    </tr>\n",
              "    <tr>\n",
              "      <th>3</th>\n",
              "      <td>10512.26</td>\n",
              "      <td>10789.3463</td>\n",
              "    </tr>\n",
              "    <tr>\n",
              "      <th>4</th>\n",
              "      <td>40924.39</td>\n",
              "      <td>40338.0643</td>\n",
              "    </tr>\n",
              "  </tbody>\n",
              "</table>\n",
              "</div>"
            ],
            "text/plain": [
              "   Actual Test Set Values  Predicted Test Set Values\n",
              "0                21577.44                 21197.2510\n",
              "1                 8370.28                  7449.3907\n",
              "2                 4985.05                  4698.7330\n",
              "3                10512.26                 10789.3463\n",
              "4                40924.39                 40338.0643"
            ]
          },
          "metadata": {
            "tags": []
          },
          "execution_count": 141
        }
      ]
    },
    {
      "cell_type": "markdown",
      "metadata": {
        "id": "SbfhXif5Ap4X"
      },
      "source": [
        "- Our model is making very **good predictions** on the test set.\n",
        "\n",
        "- It is **performing well** on unseen data."
      ]
    },
    {
      "cell_type": "markdown",
      "metadata": {
        "id": "6yN52HU69E4U"
      },
      "source": [
        "**Calculating the RMSE Score**"
      ]
    },
    {
      "cell_type": "markdown",
      "metadata": {
        "id": "IsXeUSP69E8z"
      },
      "source": [
        "- Here we will **calculate** the **RMSE** score for both the training and testing datasets."
      ]
    },
    {
      "cell_type": "code",
      "metadata": {
        "id": "hs0M7po18GRS",
        "outputId": "f8c3d111-bdbc-48c5-c053-d150a4f7509d",
        "colab": {
          "base_uri": "https://localhost:8080/",
          "height": 50
        }
      },
      "source": [
        "# Estimating RMSE on Train & Test Data\n",
        "print('RMSE for Train Set:', np.round(np.sqrt(mean_squared_error(y_train, y_train_pred)), decimals=2))\n",
        "print('RMSE for Test Set:', np.round(np.sqrt(mean_squared_error(y_test, y_test_pred)), decimals=2))"
      ],
      "execution_count": null,
      "outputs": [
        {
          "output_type": "stream",
          "text": [
            "RMSE for Train Set: 1287.97\n",
            "RMSE for Test Set: 3261.2\n"
          ],
          "name": "stdout"
        }
      ]
    },
    {
      "cell_type": "markdown",
      "metadata": {
        "id": "R_FAh4zj9V0Z"
      },
      "source": [
        "**Observations:**\n",
        "\n",
        "- We are getting a **RMSE** score of **3261.2**, which is significantly **lower** than the one we obtained on the validation set during cross-validation.\n",
        "\n",
        "- We can't judge our model's performace on the basis of RMSE score alone.\n",
        "\n",
        "- We need some additional evaluation metric to evaluate our model performace."
      ]
    },
    {
      "cell_type": "markdown",
      "metadata": {
        "id": "N0vuSNI29WAH"
      },
      "source": [
        "**Calculating R-Squared Value**"
      ]
    },
    {
      "cell_type": "markdown",
      "metadata": {
        "id": "bJ0NkaWB9cLO"
      },
      "source": [
        "- Now, we will **calculate** the **R-Squared** value for both our train and test sets."
      ]
    },
    {
      "cell_type": "code",
      "metadata": {
        "id": "cohCxtq48GPM",
        "outputId": "1d00cce8-57b9-41e2-ef04-db4c4fa97136",
        "colab": {
          "base_uri": "https://localhost:8080/",
          "height": 50
        }
      },
      "source": [
        "# Estimating R-Squared on Train & Test Data\n",
        "print('R-Squared for Train Set:', np.round(r2_score(y_train, y_train_pred), decimals=2))\n",
        "print('R-Squared for Test Set:', np.round(r2_score(y_test, y_test_pred), decimals=2))"
      ],
      "execution_count": null,
      "outputs": [
        {
          "output_type": "stream",
          "text": [
            "R-Squared for Train Set: 1.0\n",
            "R-Squared for Test Set: 0.98\n"
          ],
          "name": "stdout"
        }
      ]
    },
    {
      "cell_type": "markdown",
      "metadata": {
        "id": "EsXkJx8E9hOC"
      },
      "source": [
        "**Observations:**\n",
        "\n",
        "- The **R-Squared** value for the **train** set is **1.0,** and for the **test** set is **0.98**\n",
        "\n",
        "- This is a very **high R-Squared** value, that means our model is a **very good model**.\n",
        "\n",
        "- This model can be **deployed to production** servers to make real-time predictions on unseen data."
      ]
    },
    {
      "cell_type": "markdown",
      "metadata": {
        "id": "P5Nd7lHdCIDL"
      },
      "source": [
        "**Plotting Actual vs Predicted Values**"
      ]
    },
    {
      "cell_type": "markdown",
      "metadata": {
        "id": "GPo45s4CCZrA"
      },
      "source": [
        "- Creating a helper function `plot_score` which will help us in plotting the **actual** and **predicted** values."
      ]
    },
    {
      "cell_type": "code",
      "metadata": {
        "id": "6PdscEkorCx7"
      },
      "source": [
        "# Creating a helper function to plot the actual and predicted values for train and test sets.\n",
        "def plot_score(y_train, y_train_pred, y_test, y_test_pred):\n",
        "  '''\n",
        "  Plot acutal and predicted values for train & test data\n",
        "  y_train: actual y_train values\n",
        "  y_train_pred: predicted values of y_train\n",
        "  y_test: actual y_test values\n",
        "  y_test_pred: predicted values of y_test\n",
        "  '''\n",
        "  plt.figure(figsize=[16, 6])\n",
        "  plt.subplot(1, 2, 1)\n",
        "  sns.regplot(x=y_train, y=y_train_pred, color='red')\n",
        "  plt.xlabel('Actual', size=14)\n",
        "  plt.ylabel('Predicted', size=14)\n",
        "  plt.title('For Train Data', size=16)\n",
        "\n",
        "  plt.subplot(1, 2, 2)\n",
        "  sns.regplot(x=y_test, y=y_test_pred, color='green')\n",
        "  plt.xlabel('Actual', size=14)\n",
        "  plt.ylabel('Predicted', size=14)\n",
        "  plt.title('For Test Data', size=16)\n",
        "  plt.show()"
      ],
      "execution_count": null,
      "outputs": []
    },
    {
      "cell_type": "markdown",
      "metadata": {
        "id": "8AYWSTEXC1i2"
      },
      "source": [
        "- **Plotting** the Actual vs Predicted value plot of our model."
      ]
    },
    {
      "cell_type": "code",
      "metadata": {
        "id": "lCNN0hpn8LRv",
        "outputId": "b56665c7-c866-4aef-973c-10cbb4fe72e7",
        "colab": {
          "base_uri": "https://localhost:8080/",
          "height": 414
        }
      },
      "source": [
        "# Plotting Actual vs Predicted Values\n",
        "# This will take some time\n",
        "plot_score(y_train, y_train_pred, y_test, y_test_pred)"
      ],
      "execution_count": null,
      "outputs": [
        {
          "output_type": "display_data",
          "data": {
            "image/png": "[encoded data removed]",
            "text/plain": [
              "<Figure size 1152x432 with 2 Axes>"
            ]
          },
          "metadata": {
            "tags": [],
            "needs_background": "light"
          }
        }
      ]
    },
    {
      "cell_type": "markdown",
      "metadata": {
        "id": "Vwfx9bLBIvUz"
      },
      "source": [
        "**Observations:**\n",
        "\n",
        "- The **points** are very **close** to the *regression line*.\n",
        "\n",
        "- This implies that there is a very **little difference** between the actual and the predicted values.\n",
        "\n",
        "- This confirms that our final model is indeed a **good model**."
      ]
    },
    {
      "cell_type": "markdown",
      "metadata": {
        "id": "caklQPnlrC99"
      },
      "source": [
        "<a id = Section9></a>\n",
        "## **9. Conclusion**"
      ]
    },
    {
      "cell_type": "markdown",
      "metadata": {
        "id": "QaMojUhorGtD"
      },
      "source": [
        "- We studied **in-depth** about the various **features** in the data, their **characteristics** and their **distributions**.\n",
        "\n",
        "- We went through an **extensive** and **thorough** data analysis process, exploring various **questions** regarding the **relation** between the **weekly sales** of the stores and their different **features**.\n",
        "\n",
        "- We **encoded** the *categorical data* and **removed** any *redundant columns* to make our dataset fit for training.\n",
        "\n",
        "- We created some **baseline models** and fitted them with the **entire dataset** and compared their performace.\n",
        "\n",
        "- The **Baseline Random Forest** model was the **best** baseline model with **least RMSE** value.\n",
        "\n",
        "- Then with the help of Random Forest we **compared** the **importance** of each feature in the dataset, and selected the **top 6** *most important features*.\n",
        "\n",
        "- In this way,  the Random Forest model helped us in **Feature Selection** for our Essential Feature Models.\n",
        "\n",
        "- We then created the **Essential Feature Models** and fitted them using only the **top 6 most important features**.\n",
        "  \n",
        "- The models performed much **better** after **removing** the *non-essential features*, and the **Essential Feature Random Forest** model was the **best model** overall with the **least RMSE** score of all models.\n",
        "\n",
        "- We **tuned** the **hyperparameters** for our Random Forest model using **Grid Search** and further improved it's performance.\n",
        "\n",
        "- We selected the **best hyperparameter combination** model found using Grid Search as our **final model**, and made **predictions** on the test set using it.\n",
        "\n",
        "- Our final model gave a **R-Squared** value of **0.98** on the *test set*, implying that it is indeed a **very good model**, and is generalizing well on unseen data."
      ]
    }
  ]
}